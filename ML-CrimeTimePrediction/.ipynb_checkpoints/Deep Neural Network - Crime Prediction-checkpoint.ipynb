{
 "cells": [
  {
   "cell_type": "code",
   "execution_count": 1,
   "metadata": {},
   "outputs": [],
   "source": [
    "# Importing dependencies\n",
    "import pandas as pd"
   ]
  },
  {
   "cell_type": "markdown",
   "metadata": {},
   "source": [
    "# Reading the CSV"
   ]
  },
  {
   "cell_type": "code",
   "execution_count": 2,
   "metadata": {},
   "outputs": [
    {
     "data": {
      "text/html": [
       "<div>\n",
       "<style scoped>\n",
       "    .dataframe tbody tr th:only-of-type {\n",
       "        vertical-align: middle;\n",
       "    }\n",
       "\n",
       "    .dataframe tbody tr th {\n",
       "        vertical-align: top;\n",
       "    }\n",
       "\n",
       "    .dataframe thead th {\n",
       "        text-align: right;\n",
       "    }\n",
       "</style>\n",
       "<table border=\"1\" class=\"dataframe\">\n",
       "  <thead>\n",
       "    <tr style=\"text-align: right;\">\n",
       "      <th></th>\n",
       "      <th>Beat</th>\n",
       "      <th>Description</th>\n",
       "      <th>Grid</th>\n",
       "      <th>Occurence_Date</th>\n",
       "      <th>Offense_Category</th>\n",
       "      <th>Offense_Code</th>\n",
       "      <th>Offense_Ext</th>\n",
       "      <th>Police_District</th>\n",
       "      <th>Record_ID</th>\n",
       "      <th>Day_of_the_Week</th>\n",
       "      <th>Month</th>\n",
       "      <th>Year</th>\n",
       "      <th>Hour</th>\n",
       "      <th>Encoded_Beat</th>\n",
       "    </tr>\n",
       "  </thead>\n",
       "  <tbody>\n",
       "    <tr>\n",
       "      <th>0</th>\n",
       "      <td>3M</td>\n",
       "      <td>602(L)(1)TRESPASS REFUSE TO LV</td>\n",
       "      <td>734</td>\n",
       "      <td>Mon 01-01-2018, 02:15:00 AM</td>\n",
       "      <td>TRESPASS</td>\n",
       "      <td>5707</td>\n",
       "      <td>6</td>\n",
       "      <td>3</td>\n",
       "      <td>1287465</td>\n",
       "      <td>1</td>\n",
       "      <td>1</td>\n",
       "      <td>2018</td>\n",
       "      <td>2</td>\n",
       "      <td>8</td>\n",
       "    </tr>\n",
       "    <tr>\n",
       "      <th>1</th>\n",
       "      <td>5B</td>\n",
       "      <td>459 PC BURG RESIDENCE-FORCE</td>\n",
       "      <td>1604</td>\n",
       "      <td>Mon 01-01-2018, 04:45:00 PM</td>\n",
       "      <td>BURGLARY</td>\n",
       "      <td>2202</td>\n",
       "      <td>0</td>\n",
       "      <td>5</td>\n",
       "      <td>1287470</td>\n",
       "      <td>1</td>\n",
       "      <td>1</td>\n",
       "      <td>2018</td>\n",
       "      <td>16</td>\n",
       "      <td>13</td>\n",
       "    </tr>\n",
       "    <tr>\n",
       "      <th>2</th>\n",
       "      <td>1C</td>\n",
       "      <td>459 PC BURG BUSINESS-FORCE</td>\n",
       "      <td>309</td>\n",
       "      <td>Mon 01-01-2018, 05:54:00 AM</td>\n",
       "      <td>BURGLARY</td>\n",
       "      <td>2203</td>\n",
       "      <td>0</td>\n",
       "      <td>1</td>\n",
       "      <td>1287505</td>\n",
       "      <td>1</td>\n",
       "      <td>1</td>\n",
       "      <td>2018</td>\n",
       "      <td>5</td>\n",
       "      <td>2</td>\n",
       "    </tr>\n",
       "    <tr>\n",
       "      <th>3</th>\n",
       "      <td>2A</td>\n",
       "      <td>459 PC BURG RESIDENCE-FORCE</td>\n",
       "      <td>222</td>\n",
       "      <td>Mon 01-01-2018, 03:17:00 AM</td>\n",
       "      <td>BURGLARY</td>\n",
       "      <td>2202</td>\n",
       "      <td>0</td>\n",
       "      <td>2</td>\n",
       "      <td>1287511</td>\n",
       "      <td>1</td>\n",
       "      <td>1</td>\n",
       "      <td>2018</td>\n",
       "      <td>3</td>\n",
       "      <td>3</td>\n",
       "    </tr>\n",
       "    <tr>\n",
       "      <th>4</th>\n",
       "      <td>6C</td>\n",
       "      <td>459 PC BURG RESIDENCE-FORCE</td>\n",
       "      <td>1445</td>\n",
       "      <td>Mon 01-01-2018, 08:00:00 AM</td>\n",
       "      <td>BURGLARY</td>\n",
       "      <td>2202</td>\n",
       "      <td>0</td>\n",
       "      <td>6</td>\n",
       "      <td>1287564</td>\n",
       "      <td>1</td>\n",
       "      <td>1</td>\n",
       "      <td>2018</td>\n",
       "      <td>8</td>\n",
       "      <td>17</td>\n",
       "    </tr>\n",
       "  </tbody>\n",
       "</table>\n",
       "</div>"
      ],
      "text/plain": [
       "  Beat                     Description  Grid               Occurence_Date  \\\n",
       "0   3M  602(L)(1)TRESPASS REFUSE TO LV   734  Mon 01-01-2018, 02:15:00 AM   \n",
       "1   5B     459 PC BURG RESIDENCE-FORCE  1604  Mon 01-01-2018, 04:45:00 PM   \n",
       "2   1C      459 PC BURG BUSINESS-FORCE   309  Mon 01-01-2018, 05:54:00 AM   \n",
       "3   2A     459 PC BURG RESIDENCE-FORCE   222  Mon 01-01-2018, 03:17:00 AM   \n",
       "4   6C     459 PC BURG RESIDENCE-FORCE  1445  Mon 01-01-2018, 08:00:00 AM   \n",
       "\n",
       "  Offense_Category  Offense_Code Offense_Ext  Police_District  Record_ID  \\\n",
       "0         TRESPASS          5707           6                3    1287465   \n",
       "1         BURGLARY          2202           0                5    1287470   \n",
       "2         BURGLARY          2203           0                1    1287505   \n",
       "3         BURGLARY          2202           0                2    1287511   \n",
       "4         BURGLARY          2202           0                6    1287564   \n",
       "\n",
       "   Day_of_the_Week  Month  Year  Hour  Encoded_Beat  \n",
       "0                1      1  2018     2             8  \n",
       "1                1      1  2018    16            13  \n",
       "2                1      1  2018     5             2  \n",
       "3                1      1  2018     3             3  \n",
       "4                1      1  2018     8            17  "
      ]
     },
     "execution_count": 2,
     "metadata": {},
     "output_type": "execute_result"
    }
   ],
   "source": [
    "# Reading CSV file\n",
    "df = pd.read_csv('../Data/sac_crime.csv')\n",
    "\n",
    "df.head()"
   ]
  },
  {
   "cell_type": "code",
   "execution_count": 3,
   "metadata": {},
   "outputs": [
    {
     "data": {
      "text/html": [
       "<div>\n",
       "<style scoped>\n",
       "    .dataframe tbody tr th:only-of-type {\n",
       "        vertical-align: middle;\n",
       "    }\n",
       "\n",
       "    .dataframe tbody tr th {\n",
       "        vertical-align: top;\n",
       "    }\n",
       "\n",
       "    .dataframe thead th {\n",
       "        text-align: right;\n",
       "    }\n",
       "</style>\n",
       "<table border=\"1\" class=\"dataframe\">\n",
       "  <thead>\n",
       "    <tr style=\"text-align: right;\">\n",
       "      <th></th>\n",
       "      <th>Offense_Category</th>\n",
       "      <th>Encoded_Beat</th>\n",
       "      <th>Police_District</th>\n",
       "      <th>Grid</th>\n",
       "      <th>Day_of_the_Week</th>\n",
       "      <th>Month</th>\n",
       "      <th>Hour</th>\n",
       "      <th>Year</th>\n",
       "    </tr>\n",
       "  </thead>\n",
       "  <tbody>\n",
       "    <tr>\n",
       "      <th>0</th>\n",
       "      <td>TRESPASS</td>\n",
       "      <td>8</td>\n",
       "      <td>3</td>\n",
       "      <td>734</td>\n",
       "      <td>1</td>\n",
       "      <td>1</td>\n",
       "      <td>2</td>\n",
       "      <td>2018</td>\n",
       "    </tr>\n",
       "    <tr>\n",
       "      <th>1</th>\n",
       "      <td>BURGLARY</td>\n",
       "      <td>13</td>\n",
       "      <td>5</td>\n",
       "      <td>1604</td>\n",
       "      <td>1</td>\n",
       "      <td>1</td>\n",
       "      <td>16</td>\n",
       "      <td>2018</td>\n",
       "    </tr>\n",
       "    <tr>\n",
       "      <th>2</th>\n",
       "      <td>BURGLARY</td>\n",
       "      <td>2</td>\n",
       "      <td>1</td>\n",
       "      <td>309</td>\n",
       "      <td>1</td>\n",
       "      <td>1</td>\n",
       "      <td>5</td>\n",
       "      <td>2018</td>\n",
       "    </tr>\n",
       "    <tr>\n",
       "      <th>3</th>\n",
       "      <td>BURGLARY</td>\n",
       "      <td>3</td>\n",
       "      <td>2</td>\n",
       "      <td>222</td>\n",
       "      <td>1</td>\n",
       "      <td>1</td>\n",
       "      <td>3</td>\n",
       "      <td>2018</td>\n",
       "    </tr>\n",
       "    <tr>\n",
       "      <th>4</th>\n",
       "      <td>BURGLARY</td>\n",
       "      <td>17</td>\n",
       "      <td>6</td>\n",
       "      <td>1445</td>\n",
       "      <td>1</td>\n",
       "      <td>1</td>\n",
       "      <td>8</td>\n",
       "      <td>2018</td>\n",
       "    </tr>\n",
       "  </tbody>\n",
       "</table>\n",
       "</div>"
      ],
      "text/plain": [
       "  Offense_Category  Encoded_Beat  Police_District  Grid  Day_of_the_Week  \\\n",
       "0         TRESPASS             8                3   734                1   \n",
       "1         BURGLARY            13                5  1604                1   \n",
       "2         BURGLARY             2                1   309                1   \n",
       "3         BURGLARY             3                2   222                1   \n",
       "4         BURGLARY            17                6  1445                1   \n",
       "\n",
       "   Month  Hour  Year  \n",
       "0      1     2  2018  \n",
       "1      1    16  2018  \n",
       "2      1     5  2018  \n",
       "3      1     3  2018  \n",
       "4      1     8  2018  "
      ]
     },
     "execution_count": 3,
     "metadata": {},
     "output_type": "execute_result"
    }
   ],
   "source": [
    "# Setting features\n",
    "selected_features = df[['Offense_Category','Encoded_Beat','Police_District','Grid',\n",
    "                        'Day_of_the_Week','Month','Hour','Year']]\n",
    "selected_features.head()"
   ]
  },
  {
   "cell_type": "markdown",
   "metadata": {},
   "source": [
    "# Data Preprocessing"
   ]
  },
  {
   "cell_type": "code",
   "execution_count": 4,
   "metadata": {},
   "outputs": [
    {
     "name": "stdout",
     "output_type": "stream",
     "text": [
      "(7027, 7) (7027,)\n"
     ]
    }
   ],
   "source": [
    "# Assigning X and y values\n",
    "X = selected_features.drop('Offense_Category', axis=1)\n",
    "y = selected_features['Offense_Category']\n",
    "\n",
    "print(X.shape, y.shape)"
   ]
  },
  {
   "cell_type": "code",
   "execution_count": 5,
   "metadata": {},
   "outputs": [],
   "source": [
    "# Importing dependencies\n",
    "from sklearn.model_selection import train_test_split\n",
    "from tensorflow.keras.utils import to_categorical\n",
    "from sklearn.preprocessing import LabelEncoder, MinMaxScaler, StandardScaler\n",
    "\n",
    "# Splitting data into training and testing\n",
    "X_train, X_test, y_train, y_test = train_test_split(X, y, random_state=42)"
   ]
  },
  {
   "cell_type": "code",
   "execution_count": 6,
   "metadata": {},
   "outputs": [
    {
     "data": {
      "text/plain": [
       "(5270, 10)"
      ]
     },
     "execution_count": 6,
     "metadata": {},
     "output_type": "execute_result"
    }
   ],
   "source": [
    "# Creating a MinMaxScaler model and fitting it to the training data\n",
    "X_scaler = MinMaxScaler().fit(X_train)\n",
    "\n",
    "# Transform the training and testing data using the X_scaler\n",
    "X_train_scaled = X_scaler.transform(X_train)\n",
    "X_test_scaled = X_scaler.transform(X_test)\n",
    "\n",
    "# Creating a LabelEncoder model and fitting it to y training data\n",
    "label_encoder = LabelEncoder()\n",
    "label_encoder.fit(y)\n",
    "\n",
    "# Encoding y data\n",
    "encoded_y_train = label_encoder.transform(y_train)\n",
    "encoded_y_test = label_encoder.transform(y_test)\n",
    "\n",
    "# One-hot encoding y\n",
    "one_hot_y_train = to_categorical(encoded_y_train)\n",
    "one_hot_y_test = to_categorical(encoded_y_test)\n",
    "one_hot_y_train.shape"
   ]
  },
  {
   "cell_type": "markdown",
   "metadata": {},
   "source": [
    "# Building a Deep Neural Network Model"
   ]
  },
  {
   "cell_type": "code",
   "execution_count": 7,
   "metadata": {},
   "outputs": [],
   "source": [
    "from tensorflow.keras.models import Sequential\n",
    "from tensorflow.keras.layers import Dense\n",
    "\n",
    "# Creating an empty sequential model\n",
    "deep_model = Sequential()"
   ]
  },
  {
   "cell_type": "code",
   "execution_count": 8,
   "metadata": {},
   "outputs": [],
   "source": [
    "# Adding layers\n",
    "deep_model.add(Dense(units=100, activation=\"relu\", input_dim=7))\n",
    "deep_model.add(Dense(units=100, activation='relu'))\n",
    "deep_model.add(Dense(units=10, activation='softmax'))"
   ]
  },
  {
   "cell_type": "code",
   "execution_count": 9,
   "metadata": {},
   "outputs": [
    {
     "name": "stdout",
     "output_type": "stream",
     "text": [
      "Model: \"sequential\"\n",
      "_________________________________________________________________\n",
      "Layer (type)                 Output Shape              Param #   \n",
      "=================================================================\n",
      "dense (Dense)                (None, 100)               800       \n",
      "_________________________________________________________________\n",
      "dense_1 (Dense)              (None, 100)               10100     \n",
      "_________________________________________________________________\n",
      "dense_2 (Dense)              (None, 10)                1010      \n",
      "=================================================================\n",
      "Total params: 11,910\n",
      "Trainable params: 11,910\n",
      "Non-trainable params: 0\n",
      "_________________________________________________________________\n"
     ]
    }
   ],
   "source": [
    "deep_model.summary()"
   ]
  },
  {
   "cell_type": "code",
   "execution_count": 10,
   "metadata": {},
   "outputs": [],
   "source": [
    "# Compiling the model\n",
    "deep_model.compile(optimizer='adam', loss='categorical_crossentropy', metrics=['accuracy'], run_eagerly=True)"
   ]
  },
  {
   "cell_type": "code",
   "execution_count": 11,
   "metadata": {},
   "outputs": [
    {
     "name": "stdout",
     "output_type": "stream",
     "text": [
      "Train on 5270 samples\n",
      "Epoch 1/100\n",
      "5270/5270 - 13s - loss: 1.3681 - accuracy: 0.4431\n",
      "Epoch 2/100\n",
      "5270/5270 - 12s - loss: 1.2430 - accuracy: 0.4639\n",
      "Epoch 3/100\n",
      "5270/5270 - 12s - loss: 1.2334 - accuracy: 0.4763\n",
      "Epoch 4/100\n",
      "5270/5270 - 13s - loss: 1.2283 - accuracy: 0.4740\n",
      "Epoch 5/100\n",
      "5270/5270 - 13s - loss: 1.2218 - accuracy: 0.4818\n",
      "Epoch 6/100\n",
      "5270/5270 - 16s - loss: 1.2187 - accuracy: 0.4820\n",
      "Epoch 7/100\n",
      "5270/5270 - 13s - loss: 1.2169 - accuracy: 0.4873\n",
      "Epoch 8/100\n",
      "5270/5270 - 13s - loss: 1.2132 - accuracy: 0.4860\n",
      "Epoch 9/100\n",
      "5270/5270 - 12s - loss: 1.2119 - accuracy: 0.4852\n",
      "Epoch 10/100\n",
      "5270/5270 - 13s - loss: 1.2089 - accuracy: 0.4920\n",
      "Epoch 11/100\n",
      "5270/5270 - 13s - loss: 1.2064 - accuracy: 0.4964\n",
      "Epoch 12/100\n",
      "5270/5270 - 19s - loss: 1.2028 - accuracy: 0.4962\n",
      "Epoch 13/100\n",
      "5270/5270 - 14s - loss: 1.2013 - accuracy: 0.4928\n",
      "Epoch 14/100\n",
      "5270/5270 - 12s - loss: 1.1997 - accuracy: 0.4941\n",
      "Epoch 15/100\n",
      "5270/5270 - 12s - loss: 1.1991 - accuracy: 0.4953\n",
      "Epoch 16/100\n",
      "5270/5270 - 16s - loss: 1.1962 - accuracy: 0.5030\n",
      "Epoch 17/100\n",
      "5270/5270 - 13s - loss: 1.1964 - accuracy: 0.5002\n",
      "Epoch 18/100\n",
      "5270/5270 - 12s - loss: 1.1966 - accuracy: 0.4977\n",
      "Epoch 19/100\n",
      "5270/5270 - 13s - loss: 1.1914 - accuracy: 0.5042\n",
      "Epoch 20/100\n",
      "5270/5270 - 13s - loss: 1.1899 - accuracy: 0.5102\n",
      "Epoch 21/100\n",
      "5270/5270 - 13s - loss: 1.1889 - accuracy: 0.5089\n",
      "Epoch 22/100\n",
      "5270/5270 - 12s - loss: 1.1886 - accuracy: 0.5023\n",
      "Epoch 23/100\n",
      "5270/5270 - 13s - loss: 1.1876 - accuracy: 0.5112\n",
      "Epoch 24/100\n",
      "5270/5270 - 11s - loss: 1.1841 - accuracy: 0.5030\n",
      "Epoch 25/100\n",
      "5270/5270 - 12s - loss: 1.1832 - accuracy: 0.5002\n",
      "Epoch 26/100\n",
      "5270/5270 - 11s - loss: 1.1816 - accuracy: 0.5017\n",
      "Epoch 27/100\n",
      "5270/5270 - 12s - loss: 1.1813 - accuracy: 0.5013\n",
      "Epoch 28/100\n",
      "5270/5270 - 11s - loss: 1.1791 - accuracy: 0.5013\n",
      "Epoch 29/100\n",
      "5270/5270 - 11s - loss: 1.1781 - accuracy: 0.5135\n",
      "Epoch 30/100\n",
      "5270/5270 - 11s - loss: 1.1775 - accuracy: 0.5038\n",
      "Epoch 31/100\n",
      "5270/5270 - 12s - loss: 1.1756 - accuracy: 0.5082\n",
      "Epoch 32/100\n",
      "5270/5270 - 12s - loss: 1.1776 - accuracy: 0.5082\n",
      "Epoch 33/100\n",
      "5270/5270 - 12s - loss: 1.1717 - accuracy: 0.5099\n",
      "Epoch 34/100\n",
      "5270/5270 - 12s - loss: 1.1711 - accuracy: 0.5114\n",
      "Epoch 35/100\n",
      "5270/5270 - 12s - loss: 1.1716 - accuracy: 0.5118\n",
      "Epoch 36/100\n",
      "5270/5270 - 12s - loss: 1.1683 - accuracy: 0.5140\n",
      "Epoch 37/100\n",
      "5270/5270 - 11s - loss: 1.1686 - accuracy: 0.5083\n",
      "Epoch 38/100\n",
      "5270/5270 - 11s - loss: 1.1670 - accuracy: 0.5133\n",
      "Epoch 39/100\n",
      "5270/5270 - 11s - loss: 1.1665 - accuracy: 0.5150\n",
      "Epoch 40/100\n",
      "5270/5270 - 11s - loss: 1.1651 - accuracy: 0.5129\n",
      "Epoch 41/100\n",
      "5270/5270 - 12s - loss: 1.1653 - accuracy: 0.5102\n",
      "Epoch 42/100\n",
      "5270/5270 - 11s - loss: 1.1641 - accuracy: 0.5137\n",
      "Epoch 43/100\n",
      "5270/5270 - 12s - loss: 1.1630 - accuracy: 0.5127\n",
      "Epoch 44/100\n",
      "5270/5270 - 12s - loss: 1.1601 - accuracy: 0.5156\n",
      "Epoch 45/100\n",
      "5270/5270 - 12s - loss: 1.1606 - accuracy: 0.5182\n",
      "Epoch 46/100\n",
      "5270/5270 - 12s - loss: 1.1595 - accuracy: 0.5167\n",
      "Epoch 47/100\n",
      "5270/5270 - 11s - loss: 1.1586 - accuracy: 0.5150\n",
      "Epoch 48/100\n",
      "5270/5270 - 11s - loss: 1.1573 - accuracy: 0.5129\n",
      "Epoch 49/100\n",
      "5270/5270 - 12s - loss: 1.1574 - accuracy: 0.5125\n",
      "Epoch 50/100\n",
      "5270/5270 - 12s - loss: 1.1571 - accuracy: 0.5194\n",
      "Epoch 51/100\n",
      "5270/5270 - 12s - loss: 1.1525 - accuracy: 0.5165\n",
      "Epoch 52/100\n",
      "5270/5270 - 12s - loss: 1.1533 - accuracy: 0.5171\n",
      "Epoch 53/100\n",
      "5270/5270 - 11s - loss: 1.1515 - accuracy: 0.5142\n",
      "Epoch 54/100\n",
      "5270/5270 - 12s - loss: 1.1511 - accuracy: 0.5209\n",
      "Epoch 55/100\n",
      "5270/5270 - 12s - loss: 1.1504 - accuracy: 0.5243\n",
      "Epoch 56/100\n",
      "5270/5270 - 12s - loss: 1.1482 - accuracy: 0.5239\n",
      "Epoch 57/100\n",
      "5270/5270 - 11s - loss: 1.1497 - accuracy: 0.5129\n",
      "Epoch 58/100\n",
      "5270/5270 - 11s - loss: 1.1468 - accuracy: 0.5188\n",
      "Epoch 59/100\n",
      "5270/5270 - 11s - loss: 1.1440 - accuracy: 0.5252\n",
      "Epoch 60/100\n",
      "5270/5270 - 11s - loss: 1.1440 - accuracy: 0.5216\n",
      "Epoch 61/100\n",
      "5270/5270 - 11s - loss: 1.1438 - accuracy: 0.5247\n",
      "Epoch 62/100\n",
      "5270/5270 - 12s - loss: 1.1434 - accuracy: 0.5243\n",
      "Epoch 63/100\n",
      "5270/5270 - 11s - loss: 1.1417 - accuracy: 0.5214\n",
      "Epoch 64/100\n",
      "5270/5270 - 11s - loss: 1.1417 - accuracy: 0.5306\n",
      "Epoch 65/100\n",
      "5270/5270 - 12s - loss: 1.1393 - accuracy: 0.5224\n",
      "Epoch 66/100\n",
      "5270/5270 - 11s - loss: 1.1387 - accuracy: 0.5260\n",
      "Epoch 67/100\n",
      "5270/5270 - 12s - loss: 1.1380 - accuracy: 0.5239\n",
      "Epoch 68/100\n",
      "5270/5270 - 11s - loss: 1.1363 - accuracy: 0.5216\n",
      "Epoch 69/100\n",
      "5270/5270 - 11s - loss: 1.1364 - accuracy: 0.5247\n",
      "Epoch 70/100\n",
      "5270/5270 - 11s - loss: 1.1337 - accuracy: 0.5222\n",
      "Epoch 71/100\n",
      "5270/5270 - 12s - loss: 1.1331 - accuracy: 0.5275\n",
      "Epoch 72/100\n",
      "5270/5270 - 12s - loss: 1.1326 - accuracy: 0.5258\n",
      "Epoch 73/100\n",
      "5270/5270 - 12s - loss: 1.1305 - accuracy: 0.5332\n",
      "Epoch 74/100\n",
      "5270/5270 - 12s - loss: 1.1305 - accuracy: 0.5336\n",
      "Epoch 75/100\n",
      "5270/5270 - 11s - loss: 1.1313 - accuracy: 0.5300\n",
      "Epoch 76/100\n",
      "5270/5270 - 11s - loss: 1.1297 - accuracy: 0.5279\n",
      "Epoch 77/100\n",
      "5270/5270 - 12s - loss: 1.1302 - accuracy: 0.5309\n",
      "Epoch 78/100\n",
      "5270/5270 - 12s - loss: 1.1267 - accuracy: 0.5269\n",
      "Epoch 79/100\n",
      "5270/5270 - 12s - loss: 1.1243 - accuracy: 0.5292\n",
      "Epoch 80/100\n",
      "5270/5270 - 12s - loss: 1.1266 - accuracy: 0.5319\n",
      "Epoch 81/100\n",
      "5270/5270 - 11s - loss: 1.1237 - accuracy: 0.5292\n",
      "Epoch 82/100\n",
      "5270/5270 - 12s - loss: 1.1245 - accuracy: 0.5300\n",
      "Epoch 83/100\n",
      "5270/5270 - 11s - loss: 1.1238 - accuracy: 0.5281\n",
      "Epoch 84/100\n",
      "5270/5270 - 11s - loss: 1.1215 - accuracy: 0.5338\n",
      "Epoch 85/100\n",
      "5270/5270 - 11s - loss: 1.1202 - accuracy: 0.5279\n",
      "Epoch 86/100\n",
      "5270/5270 - 11s - loss: 1.1208 - accuracy: 0.5258\n",
      "Epoch 87/100\n",
      "5270/5270 - 12s - loss: 1.1196 - accuracy: 0.5273\n",
      "Epoch 88/100\n",
      "5270/5270 - 12s - loss: 1.1172 - accuracy: 0.5345\n",
      "Epoch 89/100\n",
      "5270/5270 - 12s - loss: 1.1160 - accuracy: 0.5391\n",
      "Epoch 90/100\n",
      "5270/5270 - 12s - loss: 1.1152 - accuracy: 0.5319\n",
      "Epoch 91/100\n",
      "5270/5270 - 12s - loss: 1.1159 - accuracy: 0.5281\n",
      "Epoch 92/100\n",
      "5270/5270 - 12s - loss: 1.1139 - accuracy: 0.5328\n",
      "Epoch 93/100\n",
      "5270/5270 - 12s - loss: 1.1135 - accuracy: 0.5355\n",
      "Epoch 94/100\n",
      "5270/5270 - 12s - loss: 1.1138 - accuracy: 0.5288\n",
      "Epoch 95/100\n",
      "5270/5270 - 12s - loss: 1.1152 - accuracy: 0.5334\n",
      "Epoch 96/100\n",
      "5270/5270 - 12s - loss: 1.1099 - accuracy: 0.5330\n",
      "Epoch 97/100\n",
      "5270/5270 - 13s - loss: 1.1107 - accuracy: 0.5313\n",
      "Epoch 98/100\n",
      "5270/5270 - 12s - loss: 1.1092 - accuracy: 0.5391\n",
      "Epoch 99/100\n",
      "5270/5270 - 12s - loss: 1.1103 - accuracy: 0.5349\n",
      "Epoch 100/100\n",
      "5270/5270 - 12s - loss: 1.1109 - accuracy: 0.5361\n"
     ]
    },
    {
     "data": {
      "text/plain": [
       "<tensorflow.python.keras.callbacks.History at 0x7f9eab08bd10>"
      ]
     },
     "execution_count": 11,
     "metadata": {},
     "output_type": "execute_result"
    }
   ],
   "source": [
    "# Using the training data to fit and train the deep model\n",
    "deep_model.fit(X_train_scaled, one_hot_y_train, epochs=100, shuffle=True, verbose=2)"
   ]
  },
  {
   "cell_type": "markdown",
   "metadata": {},
   "source": [
    "# Saving Trained Model\n",
    "Will be saving the trained model using the HDF5 binary format with the extension .h5"
   ]
  },
  {
   "cell_type": "code",
   "execution_count": 12,
   "metadata": {},
   "outputs": [],
   "source": [
    "# Save model\n",
    "deep_model.save(\"crime_prediction_model.h5\")"
   ]
  },
  {
   "cell_type": "markdown",
   "metadata": {},
   "source": [
    "# Loading the Model"
   ]
  },
  {
   "cell_type": "code",
   "execution_count": 15,
   "metadata": {},
   "outputs": [],
   "source": [
    "# Load the model\n",
    "from tensorflow.keras.models import load_model\n",
    "crime_prediction_model = load_model(\"crime_prediction_model.h5\")"
   ]
  },
  {
   "cell_type": "markdown",
   "metadata": {},
   "source": [
    "# Evaluating the Deep Model"
   ]
  },
  {
   "cell_type": "code",
   "execution_count": 16,
   "metadata": {},
   "outputs": [
    {
     "name": "stdout",
     "output_type": "stream",
     "text": [
      "Loss: 1.3293584731063453, Accuracy: 0.483210027217865\n"
     ]
    }
   ],
   "source": [
    "deep_model_loss, deep_model_accuracy = crime_prediction_model.evaluate(X_test_scaled, one_hot_y_test, verbose=5)\n",
    "print(f'Loss: {deep_model_loss}, Accuracy: {deep_model_accuracy}')"
   ]
  },
  {
   "cell_type": "code",
   "execution_count": 17,
   "metadata": {},
   "outputs": [
    {
     "name": "stdout",
     "output_type": "stream",
     "text": [
      "[[0. 0. 0. 1. 0. 0. 0. 0. 0. 0.]]\n"
     ]
    }
   ],
   "source": [
    "# Testing with additional data point\n",
    "new_crime_data = [[8,3,734,1,1,2,2018]]\n",
    "predicted_crime = crime_prediction_model.predict(new_crime_data)\n",
    "print(predicted_crime)"
   ]
  }
 ],
 "metadata": {
  "kernelspec": {
   "display_name": "Python 3",
   "language": "python",
   "name": "python3"
  },
  "language_info": {
   "codemirror_mode": {
    "name": "ipython",
    "version": 3
   },
   "file_extension": ".py",
   "mimetype": "text/x-python",
   "name": "python",
   "nbconvert_exporter": "python",
   "pygments_lexer": "ipython3",
   "version": "3.7.4"
  }
 },
 "nbformat": 4,
 "nbformat_minor": 4
}
