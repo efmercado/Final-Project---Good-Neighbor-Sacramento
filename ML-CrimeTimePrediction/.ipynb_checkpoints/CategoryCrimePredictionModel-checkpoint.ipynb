{
 "cells": [
  {
   "cell_type": "code",
   "execution_count": 1,
   "metadata": {},
   "outputs": [],
   "source": [
    "# Importing dependencies\n",
    "import pandas as pd\n",
    "import numpy as np"
   ]
  },
  {
   "cell_type": "markdown",
   "metadata": {},
   "source": [
    "# Reading the CSV"
   ]
  },
  {
   "cell_type": "code",
   "execution_count": 2,
   "metadata": {},
   "outputs": [
    {
     "data": {
      "text/html": [
       "<div>\n",
       "<style scoped>\n",
       "    .dataframe tbody tr th:only-of-type {\n",
       "        vertical-align: middle;\n",
       "    }\n",
       "\n",
       "    .dataframe tbody tr th {\n",
       "        vertical-align: top;\n",
       "    }\n",
       "\n",
       "    .dataframe thead th {\n",
       "        text-align: right;\n",
       "    }\n",
       "</style>\n",
       "<table border=\"1\" class=\"dataframe\">\n",
       "  <thead>\n",
       "    <tr style=\"text-align: right;\">\n",
       "      <th></th>\n",
       "      <th>Beat</th>\n",
       "      <th>Description</th>\n",
       "      <th>Grid</th>\n",
       "      <th>Occurence_Date</th>\n",
       "      <th>Offense_Category</th>\n",
       "      <th>Offense_Code</th>\n",
       "      <th>Offense_Ext</th>\n",
       "      <th>Police_District</th>\n",
       "      <th>Record_ID</th>\n",
       "      <th>Day_of_the_Week</th>\n",
       "      <th>Month</th>\n",
       "      <th>Day_of_the_Month</th>\n",
       "      <th>Year</th>\n",
       "      <th>Hour</th>\n",
       "      <th>Minute</th>\n",
       "      <th>Encoded_Beat</th>\n",
       "    </tr>\n",
       "  </thead>\n",
       "  <tbody>\n",
       "    <tr>\n",
       "      <th>0</th>\n",
       "      <td>3M</td>\n",
       "      <td>602(L)(1)TRESPASS REFUSE TO LV</td>\n",
       "      <td>734</td>\n",
       "      <td>Mon 01-01-2018, 02:30:00 AM</td>\n",
       "      <td>TRESPASS</td>\n",
       "      <td>5707</td>\n",
       "      <td>6</td>\n",
       "      <td>3</td>\n",
       "      <td>1287465</td>\n",
       "      <td>1</td>\n",
       "      <td>1</td>\n",
       "      <td>1</td>\n",
       "      <td>2018</td>\n",
       "      <td>2</td>\n",
       "      <td>15</td>\n",
       "      <td>8</td>\n",
       "    </tr>\n",
       "    <tr>\n",
       "      <th>1</th>\n",
       "      <td>5B</td>\n",
       "      <td>459 PC BURG RESIDENCE-FORCE</td>\n",
       "      <td>1604</td>\n",
       "      <td>Mon 01-01-2018, 05:00:00 PM</td>\n",
       "      <td>BURGLARY</td>\n",
       "      <td>2202</td>\n",
       "      <td>0</td>\n",
       "      <td>5</td>\n",
       "      <td>1287470</td>\n",
       "      <td>1</td>\n",
       "      <td>1</td>\n",
       "      <td>1</td>\n",
       "      <td>2018</td>\n",
       "      <td>16</td>\n",
       "      <td>45</td>\n",
       "      <td>13</td>\n",
       "    </tr>\n",
       "    <tr>\n",
       "      <th>2</th>\n",
       "      <td>1C</td>\n",
       "      <td>459 PC BURG BUSINESS-FORCE</td>\n",
       "      <td>309</td>\n",
       "      <td>Mon 01-01-2018, 06:00:00 AM</td>\n",
       "      <td>BURGLARY</td>\n",
       "      <td>2203</td>\n",
       "      <td>0</td>\n",
       "      <td>1</td>\n",
       "      <td>1287505</td>\n",
       "      <td>1</td>\n",
       "      <td>1</td>\n",
       "      <td>1</td>\n",
       "      <td>2018</td>\n",
       "      <td>5</td>\n",
       "      <td>54</td>\n",
       "      <td>2</td>\n",
       "    </tr>\n",
       "    <tr>\n",
       "      <th>3</th>\n",
       "      <td>2A</td>\n",
       "      <td>459 PC BURG RESIDENCE-FORCE</td>\n",
       "      <td>222</td>\n",
       "      <td>Mon 01-01-2018, 03:30:00 AM</td>\n",
       "      <td>BURGLARY</td>\n",
       "      <td>2202</td>\n",
       "      <td>0</td>\n",
       "      <td>2</td>\n",
       "      <td>1287511</td>\n",
       "      <td>1</td>\n",
       "      <td>1</td>\n",
       "      <td>1</td>\n",
       "      <td>2018</td>\n",
       "      <td>3</td>\n",
       "      <td>17</td>\n",
       "      <td>3</td>\n",
       "    </tr>\n",
       "    <tr>\n",
       "      <th>4</th>\n",
       "      <td>6C</td>\n",
       "      <td>459 PC BURG RESIDENCE-FORCE</td>\n",
       "      <td>1445</td>\n",
       "      <td>Mon 01-01-2018, 08:00:00 AM</td>\n",
       "      <td>BURGLARY</td>\n",
       "      <td>2202</td>\n",
       "      <td>0</td>\n",
       "      <td>6</td>\n",
       "      <td>1287564</td>\n",
       "      <td>1</td>\n",
       "      <td>1</td>\n",
       "      <td>1</td>\n",
       "      <td>2018</td>\n",
       "      <td>8</td>\n",
       "      <td>0</td>\n",
       "      <td>17</td>\n",
       "    </tr>\n",
       "  </tbody>\n",
       "</table>\n",
       "</div>"
      ],
      "text/plain": [
       "  Beat                     Description  Grid               Occurence_Date  \\\n",
       "0   3M  602(L)(1)TRESPASS REFUSE TO LV   734  Mon 01-01-2018, 02:30:00 AM   \n",
       "1   5B     459 PC BURG RESIDENCE-FORCE  1604  Mon 01-01-2018, 05:00:00 PM   \n",
       "2   1C      459 PC BURG BUSINESS-FORCE   309  Mon 01-01-2018, 06:00:00 AM   \n",
       "3   2A     459 PC BURG RESIDENCE-FORCE   222  Mon 01-01-2018, 03:30:00 AM   \n",
       "4   6C     459 PC BURG RESIDENCE-FORCE  1445  Mon 01-01-2018, 08:00:00 AM   \n",
       "\n",
       "  Offense_Category  Offense_Code Offense_Ext  Police_District  Record_ID  \\\n",
       "0         TRESPASS          5707           6                3    1287465   \n",
       "1         BURGLARY          2202           0                5    1287470   \n",
       "2         BURGLARY          2203           0                1    1287505   \n",
       "3         BURGLARY          2202           0                2    1287511   \n",
       "4         BURGLARY          2202           0                6    1287564   \n",
       "\n",
       "   Day_of_the_Week  Month  Day_of_the_Month  Year  Hour  Minute  Encoded_Beat  \n",
       "0                1      1                 1  2018     2      15             8  \n",
       "1                1      1                 1  2018    16      45            13  \n",
       "2                1      1                 1  2018     5      54             2  \n",
       "3                1      1                 1  2018     3      17             3  \n",
       "4                1      1                 1  2018     8       0            17  "
      ]
     },
     "execution_count": 2,
     "metadata": {},
     "output_type": "execute_result"
    }
   ],
   "source": [
    "# Reading CSV file\n",
    "df = pd.read_csv('../Data/sac_crime.csv')\n",
    "\n",
    "df.head()"
   ]
  },
  {
   "cell_type": "code",
   "execution_count": 3,
   "metadata": {},
   "outputs": [
    {
     "data": {
      "text/html": [
       "<div>\n",
       "<style scoped>\n",
       "    .dataframe tbody tr th:only-of-type {\n",
       "        vertical-align: middle;\n",
       "    }\n",
       "\n",
       "    .dataframe tbody tr th {\n",
       "        vertical-align: top;\n",
       "    }\n",
       "\n",
       "    .dataframe thead th {\n",
       "        text-align: right;\n",
       "    }\n",
       "</style>\n",
       "<table border=\"1\" class=\"dataframe\">\n",
       "  <thead>\n",
       "    <tr style=\"text-align: right;\">\n",
       "      <th></th>\n",
       "      <th>Offense_Category</th>\n",
       "      <th>Encoded_Beat</th>\n",
       "      <th>Police_District</th>\n",
       "      <th>Day_of_the_Week</th>\n",
       "      <th>Month</th>\n",
       "      <th>Day_of_the_Month</th>\n",
       "      <th>Hour</th>\n",
       "      <th>Minute</th>\n",
       "      <th>Year</th>\n",
       "    </tr>\n",
       "  </thead>\n",
       "  <tbody>\n",
       "    <tr>\n",
       "      <th>0</th>\n",
       "      <td>TRESPASS</td>\n",
       "      <td>8</td>\n",
       "      <td>3</td>\n",
       "      <td>1</td>\n",
       "      <td>1</td>\n",
       "      <td>1</td>\n",
       "      <td>2</td>\n",
       "      <td>15</td>\n",
       "      <td>2018</td>\n",
       "    </tr>\n",
       "    <tr>\n",
       "      <th>1</th>\n",
       "      <td>BURGLARY</td>\n",
       "      <td>13</td>\n",
       "      <td>5</td>\n",
       "      <td>1</td>\n",
       "      <td>1</td>\n",
       "      <td>1</td>\n",
       "      <td>16</td>\n",
       "      <td>45</td>\n",
       "      <td>2018</td>\n",
       "    </tr>\n",
       "    <tr>\n",
       "      <th>2</th>\n",
       "      <td>BURGLARY</td>\n",
       "      <td>2</td>\n",
       "      <td>1</td>\n",
       "      <td>1</td>\n",
       "      <td>1</td>\n",
       "      <td>1</td>\n",
       "      <td>5</td>\n",
       "      <td>54</td>\n",
       "      <td>2018</td>\n",
       "    </tr>\n",
       "    <tr>\n",
       "      <th>3</th>\n",
       "      <td>BURGLARY</td>\n",
       "      <td>3</td>\n",
       "      <td>2</td>\n",
       "      <td>1</td>\n",
       "      <td>1</td>\n",
       "      <td>1</td>\n",
       "      <td>3</td>\n",
       "      <td>17</td>\n",
       "      <td>2018</td>\n",
       "    </tr>\n",
       "    <tr>\n",
       "      <th>4</th>\n",
       "      <td>BURGLARY</td>\n",
       "      <td>17</td>\n",
       "      <td>6</td>\n",
       "      <td>1</td>\n",
       "      <td>1</td>\n",
       "      <td>1</td>\n",
       "      <td>8</td>\n",
       "      <td>0</td>\n",
       "      <td>2018</td>\n",
       "    </tr>\n",
       "  </tbody>\n",
       "</table>\n",
       "</div>"
      ],
      "text/plain": [
       "  Offense_Category  Encoded_Beat  Police_District  Day_of_the_Week  Month  \\\n",
       "0         TRESPASS             8                3                1      1   \n",
       "1         BURGLARY            13                5                1      1   \n",
       "2         BURGLARY             2                1                1      1   \n",
       "3         BURGLARY             3                2                1      1   \n",
       "4         BURGLARY            17                6                1      1   \n",
       "\n",
       "   Day_of_the_Month  Hour  Minute  Year  \n",
       "0                 1     2      15  2018  \n",
       "1                 1    16      45  2018  \n",
       "2                 1     5      54  2018  \n",
       "3                 1     3      17  2018  \n",
       "4                 1     8       0  2018  "
      ]
     },
     "execution_count": 3,
     "metadata": {},
     "output_type": "execute_result"
    }
   ],
   "source": [
    "# Setting features\n",
    "selected_features = df[['Offense_Category','Encoded_Beat','Police_District',\n",
    "                        'Day_of_the_Week','Month','Day_of_the_Month','Hour','Minute','Year']]\n",
    "selected_features.head()"
   ]
  },
  {
   "cell_type": "markdown",
   "metadata": {},
   "source": [
    "# Data Preprocessing"
   ]
  },
  {
   "cell_type": "code",
   "execution_count": 4,
   "metadata": {},
   "outputs": [
    {
     "name": "stdout",
     "output_type": "stream",
     "text": [
      "(7061, 8) (7061,)\n"
     ]
    }
   ],
   "source": [
    "# Assigning X and y values\n",
    "X = selected_features.drop('Offense_Category', axis=1)\n",
    "y = selected_features['Offense_Category']\n",
    "\n",
    "print(X.shape, y.shape)"
   ]
  },
  {
   "cell_type": "code",
   "execution_count": 5,
   "metadata": {},
   "outputs": [],
   "source": [
    "# Importing dependencies\n",
    "from sklearn.model_selection import train_test_split\n",
    "from tensorflow.keras.utils import to_categorical\n",
    "from sklearn.preprocessing import LabelEncoder, MinMaxScaler, StandardScaler\n",
    "\n",
    "# Splitting data into training and testing\n",
    "X_train, X_test, y_train, y_test = train_test_split(X, y, random_state=42)"
   ]
  },
  {
   "cell_type": "code",
   "execution_count": 6,
   "metadata": {},
   "outputs": [
    {
     "data": {
      "text/plain": [
       "(5295, 10)"
      ]
     },
     "execution_count": 6,
     "metadata": {},
     "output_type": "execute_result"
    }
   ],
   "source": [
    "# Creating a MinMaxScaler model and fitting it to the training data\n",
    "X_scaler = MinMaxScaler().fit(X_train)\n",
    "\n",
    "# Transform the training and testing data using the X_scaler\n",
    "X_train_scaled = X_scaler.transform(X_train)\n",
    "X_test_scaled = X_scaler.transform(X_test)\n",
    "\n",
    "# Creating a LabelEncoder model and fitting it to y training data\n",
    "label_encoder = LabelEncoder()\n",
    "label_encoder.fit(y)\n",
    "\n",
    "# Encoding y data\n",
    "encoded_y_train = label_encoder.transform(y_train)\n",
    "encoded_y_test = label_encoder.transform(y_test)\n",
    "\n",
    "# One-hot encoding y\n",
    "one_hot_y_train = to_categorical(encoded_y_train)\n",
    "one_hot_y_test = to_categorical(encoded_y_test)\n",
    "one_hot_y_train.shape"
   ]
  },
  {
   "cell_type": "markdown",
   "metadata": {},
   "source": [
    "# Building a Deep Neural Network Model"
   ]
  },
  {
   "cell_type": "code",
   "execution_count": 7,
   "metadata": {},
   "outputs": [],
   "source": [
    "from tensorflow.keras.models import Sequential\n",
    "from tensorflow.keras.layers import Dense\n",
    "\n",
    "# Creating an empty sequential model\n",
    "deep_model = Sequential()"
   ]
  },
  {
   "cell_type": "code",
   "execution_count": 8,
   "metadata": {},
   "outputs": [],
   "source": [
    "# Adding layers\n",
    "deep_model.add(Dense(units=100, activation=\"relu\", input_dim=8))\n",
    "deep_model.add(Dense(units=100, activation='relu'))\n",
    "deep_model.add(Dense(units=10, activation='softmax'))"
   ]
  },
  {
   "cell_type": "code",
   "execution_count": 9,
   "metadata": {},
   "outputs": [
    {
     "name": "stdout",
     "output_type": "stream",
     "text": [
      "Model: \"sequential\"\n",
      "_________________________________________________________________\n",
      "Layer (type)                 Output Shape              Param #   \n",
      "=================================================================\n",
      "dense (Dense)                (None, 100)               900       \n",
      "_________________________________________________________________\n",
      "dense_1 (Dense)              (None, 100)               10100     \n",
      "_________________________________________________________________\n",
      "dense_2 (Dense)              (None, 10)                1010      \n",
      "=================================================================\n",
      "Total params: 12,010\n",
      "Trainable params: 12,010\n",
      "Non-trainable params: 0\n",
      "_________________________________________________________________\n"
     ]
    }
   ],
   "source": [
    "deep_model.summary()"
   ]
  },
  {
   "cell_type": "code",
   "execution_count": 10,
   "metadata": {},
   "outputs": [],
   "source": [
    "# Compiling the model\n",
    "deep_model.compile(optimizer='adam', loss='categorical_crossentropy', metrics=['accuracy'], run_eagerly=True)"
   ]
  },
  {
   "cell_type": "code",
   "execution_count": 11,
   "metadata": {},
   "outputs": [
    {
     "name": "stdout",
     "output_type": "stream",
     "text": [
      "Train on 5295 samples\n",
      "Epoch 1/100\n",
      "5295/5295 - 11s - loss: 1.3863 - accuracy: 0.4312\n",
      "Epoch 2/100\n",
      "5295/5295 - 13s - loss: 1.2421 - accuracy: 0.4640\n",
      "Epoch 3/100\n",
      "5295/5295 - 14s - loss: 1.2279 - accuracy: 0.4693\n",
      "Epoch 4/100\n",
      "5295/5295 - 13s - loss: 1.2222 - accuracy: 0.4720\n",
      "Epoch 5/100\n",
      "5295/5295 - 12s - loss: 1.2166 - accuracy: 0.4839\n",
      "Epoch 6/100\n",
      "5295/5295 - 13s - loss: 1.2113 - accuracy: 0.4897\n",
      "Epoch 7/100\n",
      "5295/5295 - 12s - loss: 1.2096 - accuracy: 0.4854\n",
      "Epoch 8/100\n",
      "5295/5295 - 14s - loss: 1.2068 - accuracy: 0.4878\n",
      "Epoch 9/100\n",
      "5295/5295 - 13s - loss: 1.2035 - accuracy: 0.4982\n",
      "Epoch 10/100\n",
      "5295/5295 - 15s - loss: 1.2015 - accuracy: 0.4876\n",
      "Epoch 11/100\n",
      "5295/5295 - 13s - loss: 1.2018 - accuracy: 0.4937\n",
      "Epoch 12/100\n",
      "5295/5295 - 13s - loss: 1.1959 - accuracy: 0.4933\n",
      "Epoch 13/100\n",
      "5295/5295 - 12s - loss: 1.1942 - accuracy: 0.4988\n",
      "Epoch 14/100\n",
      "5295/5295 - 12s - loss: 1.1912 - accuracy: 0.5039\n",
      "Epoch 15/100\n",
      "5295/5295 - 13s - loss: 1.1875 - accuracy: 0.5020\n",
      "Epoch 16/100\n",
      "5295/5295 - 13s - loss: 1.1861 - accuracy: 0.5035\n",
      "Epoch 17/100\n",
      "5295/5295 - 13s - loss: 1.1850 - accuracy: 0.5069\n",
      "Epoch 18/100\n",
      "5295/5295 - 13s - loss: 1.1825 - accuracy: 0.5031\n",
      "Epoch 19/100\n",
      "5295/5295 - 15s - loss: 1.1786 - accuracy: 0.5090\n",
      "Epoch 20/100\n",
      "5295/5295 - 13s - loss: 1.1775 - accuracy: 0.5058\n",
      "Epoch 21/100\n",
      "5295/5295 - 13s - loss: 1.1733 - accuracy: 0.5092\n",
      "Epoch 22/100\n",
      "5295/5295 - 14s - loss: 1.1735 - accuracy: 0.5056\n",
      "Epoch 23/100\n",
      "5295/5295 - 13s - loss: 1.1708 - accuracy: 0.5103\n",
      "Epoch 24/100\n",
      "5295/5295 - 14s - loss: 1.1672 - accuracy: 0.5114\n",
      "Epoch 25/100\n",
      "5295/5295 - 14s - loss: 1.1688 - accuracy: 0.5090\n",
      "Epoch 26/100\n",
      "5295/5295 - 15s - loss: 1.1645 - accuracy: 0.5135\n",
      "Epoch 27/100\n",
      "5295/5295 - 17s - loss: 1.1647 - accuracy: 0.5080\n",
      "Epoch 28/100\n",
      "5295/5295 - 18s - loss: 1.1618 - accuracy: 0.5184\n",
      "Epoch 29/100\n",
      "5295/5295 - 15s - loss: 1.1588 - accuracy: 0.5120\n",
      "Epoch 30/100\n",
      "5295/5295 - 13s - loss: 1.1590 - accuracy: 0.5116\n",
      "Epoch 31/100\n",
      "5295/5295 - 11s - loss: 1.1559 - accuracy: 0.5186\n",
      "Epoch 32/100\n",
      "5295/5295 - 11s - loss: 1.1561 - accuracy: 0.5150\n",
      "Epoch 33/100\n",
      "5295/5295 - 11s - loss: 1.1541 - accuracy: 0.5154\n",
      "Epoch 34/100\n",
      "5295/5295 - 11s - loss: 1.1501 - accuracy: 0.5252\n",
      "Epoch 35/100\n",
      "5295/5295 - 11s - loss: 1.1495 - accuracy: 0.5263\n",
      "Epoch 36/100\n",
      "5295/5295 - 11s - loss: 1.1463 - accuracy: 0.5271\n",
      "Epoch 37/100\n",
      "5295/5295 - 11s - loss: 1.1424 - accuracy: 0.5288\n",
      "Epoch 38/100\n",
      "5295/5295 - 11s - loss: 1.1459 - accuracy: 0.5226\n",
      "Epoch 39/100\n",
      "5295/5295 - 11s - loss: 1.1418 - accuracy: 0.5273\n",
      "Epoch 40/100\n",
      "5295/5295 - 12s - loss: 1.1394 - accuracy: 0.5277\n",
      "Epoch 41/100\n",
      "5295/5295 - 11s - loss: 1.1391 - accuracy: 0.5233\n",
      "Epoch 42/100\n",
      "5295/5295 - 12s - loss: 1.1365 - accuracy: 0.5316\n",
      "Epoch 43/100\n",
      "5295/5295 - 13s - loss: 1.1353 - accuracy: 0.5280\n",
      "Epoch 44/100\n",
      "5295/5295 - 13s - loss: 1.1344 - accuracy: 0.5288\n",
      "Epoch 45/100\n",
      "5295/5295 - 12s - loss: 1.1310 - accuracy: 0.5309\n",
      "Epoch 46/100\n",
      "5295/5295 - 12s - loss: 1.1291 - accuracy: 0.5320\n",
      "Epoch 47/100\n",
      "5295/5295 - 14s - loss: 1.1290 - accuracy: 0.5318\n",
      "Epoch 48/100\n",
      "5295/5295 - 14s - loss: 1.1273 - accuracy: 0.5322\n",
      "Epoch 49/100\n",
      "5295/5295 - 13s - loss: 1.1264 - accuracy: 0.5320\n",
      "Epoch 50/100\n",
      "5295/5295 - 13s - loss: 1.1241 - accuracy: 0.5396\n",
      "Epoch 51/100\n",
      "5295/5295 - 14s - loss: 1.1216 - accuracy: 0.5382\n",
      "Epoch 52/100\n",
      "5295/5295 - 13s - loss: 1.1212 - accuracy: 0.5399\n",
      "Epoch 53/100\n",
      "5295/5295 - 14s - loss: 1.1223 - accuracy: 0.5396\n",
      "Epoch 54/100\n",
      "5295/5295 - 12s - loss: 1.1185 - accuracy: 0.5373\n",
      "Epoch 55/100\n",
      "5295/5295 - 13s - loss: 1.1175 - accuracy: 0.5381\n",
      "Epoch 56/100\n",
      "5295/5295 - 13s - loss: 1.1175 - accuracy: 0.5347\n",
      "Epoch 57/100\n",
      "5295/5295 - 12s - loss: 1.1153 - accuracy: 0.5360\n",
      "Epoch 58/100\n",
      "5295/5295 - 13s - loss: 1.1132 - accuracy: 0.5413\n",
      "Epoch 59/100\n",
      "5295/5295 - 12s - loss: 1.1125 - accuracy: 0.5369\n",
      "Epoch 60/100\n",
      "5295/5295 - 13s - loss: 1.1090 - accuracy: 0.5435\n",
      "Epoch 61/100\n",
      "5295/5295 - 13s - loss: 1.1119 - accuracy: 0.5381\n",
      "Epoch 62/100\n",
      "5295/5295 - 11s - loss: 1.1078 - accuracy: 0.5407\n",
      "Epoch 63/100\n",
      "5295/5295 - 11s - loss: 1.1064 - accuracy: 0.5439\n",
      "Epoch 64/100\n",
      "5295/5295 - 11s - loss: 1.1040 - accuracy: 0.5418\n",
      "Epoch 65/100\n",
      "5295/5295 - 11s - loss: 1.1051 - accuracy: 0.5426\n",
      "Epoch 66/100\n",
      "5295/5295 - 11s - loss: 1.1006 - accuracy: 0.5411\n",
      "Epoch 67/100\n",
      "5295/5295 - 11s - loss: 1.0990 - accuracy: 0.5452\n",
      "Epoch 68/100\n",
      "5295/5295 - 11s - loss: 1.0992 - accuracy: 0.5475\n",
      "Epoch 69/100\n",
      "5295/5295 - 11s - loss: 1.0974 - accuracy: 0.5460\n",
      "Epoch 70/100\n",
      "5295/5295 - 11s - loss: 1.0960 - accuracy: 0.5428\n",
      "Epoch 71/100\n",
      "5295/5295 - 11s - loss: 1.0945 - accuracy: 0.5481\n",
      "Epoch 72/100\n",
      "5295/5295 - 11s - loss: 1.0940 - accuracy: 0.5490\n",
      "Epoch 73/100\n",
      "5295/5295 - 11s - loss: 1.0911 - accuracy: 0.5467\n",
      "Epoch 74/100\n",
      "5295/5295 - 11s - loss: 1.0924 - accuracy: 0.5483\n",
      "Epoch 75/100\n",
      "5295/5295 - 11s - loss: 1.0914 - accuracy: 0.5422\n",
      "Epoch 76/100\n",
      "5295/5295 - 11s - loss: 1.0897 - accuracy: 0.5460\n",
      "Epoch 77/100\n",
      "5295/5295 - 11s - loss: 1.0881 - accuracy: 0.5500\n",
      "Epoch 78/100\n",
      "5295/5295 - 12s - loss: 1.0872 - accuracy: 0.5484\n",
      "Epoch 79/100\n",
      "5295/5295 - 13s - loss: 1.0870 - accuracy: 0.5518\n",
      "Epoch 80/100\n",
      "5295/5295 - 12s - loss: 1.0811 - accuracy: 0.5522\n",
      "Epoch 81/100\n",
      "5295/5295 - 11s - loss: 1.0819 - accuracy: 0.5515\n",
      "Epoch 82/100\n",
      "5295/5295 - 13s - loss: 1.0796 - accuracy: 0.5543\n",
      "Epoch 83/100\n",
      "5295/5295 - 12s - loss: 1.0799 - accuracy: 0.5518\n",
      "Epoch 84/100\n",
      "5295/5295 - 12s - loss: 1.0785 - accuracy: 0.5588\n",
      "Epoch 85/100\n",
      "5295/5295 - 12s - loss: 1.0757 - accuracy: 0.5575\n",
      "Epoch 86/100\n",
      "5295/5295 - 12s - loss: 1.0750 - accuracy: 0.5560\n",
      "Epoch 87/100\n",
      "5295/5295 - 12s - loss: 1.0744 - accuracy: 0.5547\n",
      "Epoch 88/100\n",
      "5295/5295 - 11s - loss: 1.0725 - accuracy: 0.5573\n",
      "Epoch 89/100\n",
      "5295/5295 - 13s - loss: 1.0736 - accuracy: 0.5575\n",
      "Epoch 90/100\n",
      "5295/5295 - 12s - loss: 1.0681 - accuracy: 0.5547\n",
      "Epoch 91/100\n",
      "5295/5295 - 12s - loss: 1.0714 - accuracy: 0.5568\n",
      "Epoch 92/100\n",
      "5295/5295 - 12s - loss: 1.0691 - accuracy: 0.5532\n",
      "Epoch 93/100\n",
      "5295/5295 - 12s - loss: 1.0654 - accuracy: 0.5602\n",
      "Epoch 94/100\n",
      "5295/5295 - 13s - loss: 1.0689 - accuracy: 0.5566\n",
      "Epoch 95/100\n",
      "5295/5295 - 11s - loss: 1.0628 - accuracy: 0.5611\n",
      "Epoch 96/100\n",
      "5295/5295 - 11s - loss: 1.0623 - accuracy: 0.5634\n",
      "Epoch 97/100\n",
      "5295/5295 - 11s - loss: 1.0611 - accuracy: 0.5579\n",
      "Epoch 98/100\n",
      "5295/5295 - 11s - loss: 1.0617 - accuracy: 0.5558\n",
      "Epoch 99/100\n",
      "5295/5295 - 12s - loss: 1.0585 - accuracy: 0.5598\n",
      "Epoch 100/100\n",
      "5295/5295 - 11s - loss: 1.0563 - accuracy: 0.5641\n"
     ]
    },
    {
     "data": {
      "text/plain": [
       "<tensorflow.python.keras.callbacks.History at 0x7fc03cdacfd0>"
      ]
     },
     "execution_count": 11,
     "metadata": {},
     "output_type": "execute_result"
    }
   ],
   "source": [
    "# Using the training data to fit and train the deep model\n",
    "deep_model.fit(X_train_scaled, one_hot_y_train, epochs=100, shuffle=True, verbose=2)"
   ]
  },
  {
   "cell_type": "markdown",
   "metadata": {},
   "source": [
    "# Saving Trained Model\n",
    "Will be saving the trained model using the HDF5 binary format with the extension .h5"
   ]
  },
  {
   "cell_type": "code",
   "execution_count": 12,
   "metadata": {},
   "outputs": [],
   "source": [
    "# Save model\n",
    "deep_model.save(\"crime_prediction_model.h5\")"
   ]
  },
  {
   "cell_type": "markdown",
   "metadata": {},
   "source": [
    "# Loading the Model"
   ]
  },
  {
   "cell_type": "code",
   "execution_count": 13,
   "metadata": {},
   "outputs": [],
   "source": [
    "# Load the model\n",
    "from tensorflow.keras.models import load_model\n",
    "crime_prediction_model = load_model(\"crime_prediction_model.h5\")"
   ]
  },
  {
   "cell_type": "markdown",
   "metadata": {},
   "source": [
    "# Evaluating the Deep Model"
   ]
  },
  {
   "cell_type": "code",
   "execution_count": 14,
   "metadata": {},
   "outputs": [
    {
     "name": "stdout",
     "output_type": "stream",
     "text": [
      "Loss: 1.33238209994976, Accuracy: 0.4654586613178253\n"
     ]
    }
   ],
   "source": [
    "deep_model_loss, deep_model_accuracy = crime_prediction_model.evaluate(X_test_scaled, one_hot_y_test, verbose=5)\n",
    "print(f'Loss: {deep_model_loss}, Accuracy: {deep_model_accuracy}')"
   ]
  },
  {
   "cell_type": "code",
   "execution_count": 18,
   "metadata": {},
   "outputs": [
    {
     "name": "stdout",
     "output_type": "stream",
     "text": [
      "[[0. 0. 0. 1. 0. 0. 0. 0. 0. 0.]]\n"
     ]
    }
   ],
   "source": [
    "# Testing with additional data point\n",
    "new_crime_data = [[8,3,1,1,1,2,15,2018]]\n",
    "predicted_crime = crime_prediction_model.predict(new_crime_data)\n",
    "print(predicted_crime)"
   ]
  },
  {
   "cell_type": "code",
   "execution_count": 19,
   "metadata": {},
   "outputs": [
    {
     "data": {
      "text/plain": [
       "'LARCENY'"
      ]
     },
     "execution_count": 19,
     "metadata": {},
     "output_type": "execute_result"
    }
   ],
   "source": [
    "predicted_crime_label = label_encoder.inverse_transform([np.argmax(predicted_crime, axis=None, out=None)])[0]\n",
    "predicted_crime_label"
   ]
  }
 ],
 "metadata": {
  "kernelspec": {
   "display_name": "Python 3",
   "language": "python",
   "name": "python3"
  },
  "language_info": {
   "codemirror_mode": {
    "name": "ipython",
    "version": 3
   },
   "file_extension": ".py",
   "mimetype": "text/x-python",
   "name": "python",
   "nbconvert_exporter": "python",
   "pygments_lexer": "ipython3",
   "version": "3.7.4"
  }
 },
 "nbformat": 4,
 "nbformat_minor": 4
}
