{
 "cells": [
  {
   "cell_type": "code",
   "execution_count": 1,
   "metadata": {},
   "outputs": [],
   "source": [
    "import pandas as pd\n",
    "from datetime import datetime\n",
    "import time"
   ]
  },
  {
   "cell_type": "code",
   "execution_count": 9,
   "metadata": {},
   "outputs": [],
   "source": [
    "date_series = pd.date_range(start=\"2018-01-01\", end=datetime.today(), freq='30min').to_pydatetime().tolist()"
   ]
  },
  {
   "cell_type": "code",
   "execution_count": 10,
   "metadata": {},
   "outputs": [
    {
     "data": {
      "text/plain": [
       "[datetime.datetime(2018, 1, 1, 0, 0),\n",
       " datetime.datetime(2018, 1, 1, 0, 30),\n",
       " datetime.datetime(2018, 1, 1, 1, 0),\n",
       " datetime.datetime(2018, 1, 1, 1, 30),\n",
       " datetime.datetime(2018, 1, 1, 2, 0)]"
      ]
     },
     "execution_count": 10,
     "metadata": {},
     "output_type": "execute_result"
    }
   ],
   "source": [
    "date_series[:5]"
   ]
  },
  {
   "cell_type": "code",
   "execution_count": 11,
   "metadata": {},
   "outputs": [],
   "source": [
    "time_series = []\n",
    "for time in date_series:\n",
    "    converted_time = time.strftime('%a %m-%d-%Y, %I:%M:%S %p')\n",
    "    time_series.append(converted_time)"
   ]
  },
  {
   "cell_type": "code",
   "execution_count": 12,
   "metadata": {},
   "outputs": [
    {
     "data": {
      "text/plain": [
       "['Mon 01-01-2018, 12:00:00 AM',\n",
       " 'Mon 01-01-2018, 12:30:00 AM',\n",
       " 'Mon 01-01-2018, 01:00:00 AM',\n",
       " 'Mon 01-01-2018, 01:30:00 AM',\n",
       " 'Mon 01-01-2018, 02:00:00 AM']"
      ]
     },
     "execution_count": 12,
     "metadata": {},
     "output_type": "execute_result"
    }
   ],
   "source": [
    "time_series[:5]"
   ]
  },
  {
   "cell_type": "code",
   "execution_count": 13,
   "metadata": {},
   "outputs": [],
   "source": [
    "timestamps = []\n",
    "for time in date_series:\n",
    "    unixtime = time.timestamp()\n",
    "    timestamps.append(unixtime)"
   ]
  },
  {
   "cell_type": "code",
   "execution_count": 14,
   "metadata": {},
   "outputs": [
    {
     "data": {
      "text/plain": [
       "[1514793600.0, 1514795400.0, 1514797200.0, 1514799000.0, 1514800800.0]"
      ]
     },
     "execution_count": 14,
     "metadata": {},
     "output_type": "execute_result"
    }
   ],
   "source": [
    "timestamps[:5]"
   ]
  },
  {
   "cell_type": "code",
   "execution_count": 16,
   "metadata": {},
   "outputs": [],
   "source": [
    "data = pd.read_csv('../Data/sac_crime.csv')"
   ]
  },
  {
   "cell_type": "code",
   "execution_count": 20,
   "metadata": {},
   "outputs": [],
   "source": [
    "results = []\n",
    "for i in range(len(time_series)):\n",
    "    if time_series[i] in list(data['Occurence_Date']):\n",
    "        results.append(1)\n",
    "    else:\n",
    "        results.append(0)"
   ]
  },
  {
   "cell_type": "code",
   "execution_count": 26,
   "metadata": {},
   "outputs": [],
   "source": [
    "time_dict = {'Date':time_series, 'Crime':results}"
   ]
  },
  {
   "cell_type": "code",
   "execution_count": 27,
   "metadata": {},
   "outputs": [],
   "source": [
    "time_df = pd.DataFrame(time_dict)"
   ]
  },
  {
   "cell_type": "code",
   "execution_count": 28,
   "metadata": {},
   "outputs": [
    {
     "data": {
      "text/html": [
       "<div>\n",
       "<style scoped>\n",
       "    .dataframe tbody tr th:only-of-type {\n",
       "        vertical-align: middle;\n",
       "    }\n",
       "\n",
       "    .dataframe tbody tr th {\n",
       "        vertical-align: top;\n",
       "    }\n",
       "\n",
       "    .dataframe thead th {\n",
       "        text-align: right;\n",
       "    }\n",
       "</style>\n",
       "<table border=\"1\" class=\"dataframe\">\n",
       "  <thead>\n",
       "    <tr style=\"text-align: right;\">\n",
       "      <th></th>\n",
       "      <th>Date</th>\n",
       "      <th>Crime</th>\n",
       "    </tr>\n",
       "  </thead>\n",
       "  <tbody>\n",
       "    <tr>\n",
       "      <th>0</th>\n",
       "      <td>Mon 01-01-2018, 12:00:00 AM</td>\n",
       "      <td>1</td>\n",
       "    </tr>\n",
       "    <tr>\n",
       "      <th>1</th>\n",
       "      <td>Mon 01-01-2018, 12:30:00 AM</td>\n",
       "      <td>1</td>\n",
       "    </tr>\n",
       "    <tr>\n",
       "      <th>2</th>\n",
       "      <td>Mon 01-01-2018, 01:00:00 AM</td>\n",
       "      <td>1</td>\n",
       "    </tr>\n",
       "    <tr>\n",
       "      <th>3</th>\n",
       "      <td>Mon 01-01-2018, 01:30:00 AM</td>\n",
       "      <td>0</td>\n",
       "    </tr>\n",
       "    <tr>\n",
       "      <th>4</th>\n",
       "      <td>Mon 01-01-2018, 02:00:00 AM</td>\n",
       "      <td>1</td>\n",
       "    </tr>\n",
       "    <tr>\n",
       "      <th>...</th>\n",
       "      <td>...</td>\n",
       "      <td>...</td>\n",
       "    </tr>\n",
       "    <tr>\n",
       "      <th>43419</th>\n",
       "      <td>Tue 06-23-2020, 01:30:00 PM</td>\n",
       "      <td>0</td>\n",
       "    </tr>\n",
       "    <tr>\n",
       "      <th>43420</th>\n",
       "      <td>Tue 06-23-2020, 02:00:00 PM</td>\n",
       "      <td>0</td>\n",
       "    </tr>\n",
       "    <tr>\n",
       "      <th>43421</th>\n",
       "      <td>Tue 06-23-2020, 02:30:00 PM</td>\n",
       "      <td>0</td>\n",
       "    </tr>\n",
       "    <tr>\n",
       "      <th>43422</th>\n",
       "      <td>Tue 06-23-2020, 03:00:00 PM</td>\n",
       "      <td>0</td>\n",
       "    </tr>\n",
       "    <tr>\n",
       "      <th>43423</th>\n",
       "      <td>Tue 06-23-2020, 03:30:00 PM</td>\n",
       "      <td>0</td>\n",
       "    </tr>\n",
       "  </tbody>\n",
       "</table>\n",
       "<p>43424 rows × 2 columns</p>\n",
       "</div>"
      ],
      "text/plain": [
       "                              Date  Crime\n",
       "0      Mon 01-01-2018, 12:00:00 AM      1\n",
       "1      Mon 01-01-2018, 12:30:00 AM      1\n",
       "2      Mon 01-01-2018, 01:00:00 AM      1\n",
       "3      Mon 01-01-2018, 01:30:00 AM      0\n",
       "4      Mon 01-01-2018, 02:00:00 AM      1\n",
       "...                            ...    ...\n",
       "43419  Tue 06-23-2020, 01:30:00 PM      0\n",
       "43420  Tue 06-23-2020, 02:00:00 PM      0\n",
       "43421  Tue 06-23-2020, 02:30:00 PM      0\n",
       "43422  Tue 06-23-2020, 03:00:00 PM      0\n",
       "43423  Tue 06-23-2020, 03:30:00 PM      0\n",
       "\n",
       "[43424 rows x 2 columns]"
      ]
     },
     "execution_count": 28,
     "metadata": {},
     "output_type": "execute_result"
    }
   ],
   "source": [
    "time_df"
   ]
  },
  {
   "cell_type": "code",
   "execution_count": 34,
   "metadata": {},
   "outputs": [],
   "source": [
    "Day_of_the_Week = []\n",
    "Month = []\n",
    "Day_of_the_Month = []\n",
    "Year = []\n",
    "Hour = []\n",
    "Minute = []\n",
    "\n",
    "for i in range(len(time_df)):\n",
    "        entered_date = datetime.strptime(time_df['Date'][i], '%a %m-%d-%Y, %I:%M:%S %p')\n",
    "        day_of_week = entered_date.strftime('%u')\n",
    "        month = entered_date.strftime('%m')\n",
    "        day_month = entered_date.strftime('%d')\n",
    "        year = entered_date.strftime('%Y')\n",
    "        hour = entered_date.strftime('%H')\n",
    "        minute = entered_date.strftime('%M')\n",
    "        Day_of_the_Week.append(day_of_week)\n",
    "        Month.append(month)\n",
    "        Day_of_the_Month.append(day_month)\n",
    "        Year.append(year)\n",
    "        Hour.append(hour)\n",
    "        Minute.append(minute)\n",
    "\n",
    "time_df['Day_of_the_Week'] = Day_of_the_Week\n",
    "time_df['Month'] = Month\n",
    "time_df['Year'] = Year\n",
    "time_df['Day_of_the_Month'] = Day_of_the_Month\n",
    "time_df['Hour'] = Hour\n",
    "time_df['Minute'] = Minute"
   ]
  },
  {
   "cell_type": "code",
   "execution_count": 35,
   "metadata": {},
   "outputs": [
    {
     "data": {
      "text/html": [
       "<div>\n",
       "<style scoped>\n",
       "    .dataframe tbody tr th:only-of-type {\n",
       "        vertical-align: middle;\n",
       "    }\n",
       "\n",
       "    .dataframe tbody tr th {\n",
       "        vertical-align: top;\n",
       "    }\n",
       "\n",
       "    .dataframe thead th {\n",
       "        text-align: right;\n",
       "    }\n",
       "</style>\n",
       "<table border=\"1\" class=\"dataframe\">\n",
       "  <thead>\n",
       "    <tr style=\"text-align: right;\">\n",
       "      <th></th>\n",
       "      <th>Date</th>\n",
       "      <th>Crime</th>\n",
       "      <th>Day_of_the_Week</th>\n",
       "      <th>Month</th>\n",
       "      <th>Year</th>\n",
       "      <th>Day_of_the_Month</th>\n",
       "      <th>Hour</th>\n",
       "      <th>Minute</th>\n",
       "    </tr>\n",
       "  </thead>\n",
       "  <tbody>\n",
       "    <tr>\n",
       "      <th>43419</th>\n",
       "      <td>Tue 06-23-2020, 01:30:00 PM</td>\n",
       "      <td>0</td>\n",
       "      <td>2</td>\n",
       "      <td>06</td>\n",
       "      <td>2020</td>\n",
       "      <td>23</td>\n",
       "      <td>13</td>\n",
       "      <td>30</td>\n",
       "    </tr>\n",
       "    <tr>\n",
       "      <th>43420</th>\n",
       "      <td>Tue 06-23-2020, 02:00:00 PM</td>\n",
       "      <td>0</td>\n",
       "      <td>2</td>\n",
       "      <td>06</td>\n",
       "      <td>2020</td>\n",
       "      <td>23</td>\n",
       "      <td>14</td>\n",
       "      <td>00</td>\n",
       "    </tr>\n",
       "    <tr>\n",
       "      <th>43421</th>\n",
       "      <td>Tue 06-23-2020, 02:30:00 PM</td>\n",
       "      <td>0</td>\n",
       "      <td>2</td>\n",
       "      <td>06</td>\n",
       "      <td>2020</td>\n",
       "      <td>23</td>\n",
       "      <td>14</td>\n",
       "      <td>30</td>\n",
       "    </tr>\n",
       "    <tr>\n",
       "      <th>43422</th>\n",
       "      <td>Tue 06-23-2020, 03:00:00 PM</td>\n",
       "      <td>0</td>\n",
       "      <td>2</td>\n",
       "      <td>06</td>\n",
       "      <td>2020</td>\n",
       "      <td>23</td>\n",
       "      <td>15</td>\n",
       "      <td>00</td>\n",
       "    </tr>\n",
       "    <tr>\n",
       "      <th>43423</th>\n",
       "      <td>Tue 06-23-2020, 03:30:00 PM</td>\n",
       "      <td>0</td>\n",
       "      <td>2</td>\n",
       "      <td>06</td>\n",
       "      <td>2020</td>\n",
       "      <td>23</td>\n",
       "      <td>15</td>\n",
       "      <td>30</td>\n",
       "    </tr>\n",
       "  </tbody>\n",
       "</table>\n",
       "</div>"
      ],
      "text/plain": [
       "                              Date  Crime Day_of_the_Week Month  Year  \\\n",
       "43419  Tue 06-23-2020, 01:30:00 PM      0               2    06  2020   \n",
       "43420  Tue 06-23-2020, 02:00:00 PM      0               2    06  2020   \n",
       "43421  Tue 06-23-2020, 02:30:00 PM      0               2    06  2020   \n",
       "43422  Tue 06-23-2020, 03:00:00 PM      0               2    06  2020   \n",
       "43423  Tue 06-23-2020, 03:30:00 PM      0               2    06  2020   \n",
       "\n",
       "      Day_of_the_Month Hour Minute  \n",
       "43419               23   13     30  \n",
       "43420               23   14     00  \n",
       "43421               23   14     30  \n",
       "43422               23   15     00  \n",
       "43423               23   15     30  "
      ]
     },
     "execution_count": 35,
     "metadata": {},
     "output_type": "execute_result"
    }
   ],
   "source": [
    "time_df.tail()"
   ]
  },
  {
   "cell_type": "code",
   "execution_count": 36,
   "metadata": {},
   "outputs": [],
   "source": [
    "time_df.to_csv('day_and_crime.csv', index=False)"
   ]
  }
 ],
 "metadata": {
  "kernelspec": {
   "display_name": "Python 3",
   "language": "python",
   "name": "python3"
  },
  "language_info": {
   "codemirror_mode": {
    "name": "ipython",
    "version": 3
   },
   "file_extension": ".py",
   "mimetype": "text/x-python",
   "name": "python",
   "nbconvert_exporter": "python",
   "pygments_lexer": "ipython3",
   "version": "3.7.4"
  }
 },
 "nbformat": 4,
 "nbformat_minor": 4
}
