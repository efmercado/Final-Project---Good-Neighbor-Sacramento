{
 "cells": [
  {
   "cell_type": "code",
   "execution_count": 1,
   "metadata": {},
   "outputs": [],
   "source": [
    "from datetime import datetime\n",
    "import random\n",
    "import numpy as np\n",
    "from tensorflow.keras.models import load_model\n",
    "from sklearn.preprocessing import LabelEncoder"
   ]
  },
  {
   "cell_type": "code",
   "execution_count": 2,
   "metadata": {},
   "outputs": [],
   "source": [
    "today = datetime.today()"
   ]
  },
  {
   "cell_type": "code",
   "execution_count": 3,
   "metadata": {},
   "outputs": [],
   "source": [
    "week_num = datetime.date(today).isocalendar()[1]\n",
    "week_year = datetime.date(today).isocalendar()[0]\n",
    "str_format = f'{str(week_year)}-{str(week_num)}'"
   ]
  },
  {
   "cell_type": "code",
   "execution_count": 4,
   "metadata": {},
   "outputs": [],
   "source": [
    "future_monday = datetime.strptime(str_format + '-1', '%Y-%W-%w')\n",
    "future_tuesday = datetime.strptime(str_format + '-2', '%Y-%W-%w')\n",
    "future_wednesday = datetime.strptime(str_format + '-3', '%Y-%W-%w')\n",
    "future_thursday = datetime.strptime(str_format + '-4', '%Y-%W-%w')\n",
    "future_friday = datetime.strptime(str_format + '-5', '%Y-%W-%w')"
   ]
  },
  {
   "cell_type": "code",
   "execution_count": 5,
   "metadata": {},
   "outputs": [],
   "source": [
    "def category_point(week_date):\n",
    "    \n",
    "    category_data_point = []\n",
    "    \n",
    "    day_of_week = int(week_date.strftime('%u'))\n",
    "    month = int(week_date.strftime('%m'))\n",
    "    day_month = int(week_date.strftime('%d'))\n",
    "    hour = int(week_date.strftime('%H'))\n",
    "    minute = int(week_date.strftime('%M'))\n",
    "    year = int(week_date.strftime('%Y'))\n",
    "    random_beat = random.randint(1,17)\n",
    "    random_district = random.randint(1,6)\n",
    "\n",
    "    category_data_point.append(random_beat)\n",
    "    category_data_point.append(random_district)\n",
    "    category_data_point.append(day_of_week)\n",
    "    category_data_point.append(month)\n",
    "    category_data_point.append(day_month)\n",
    "    category_data_point.append(hour)\n",
    "    category_data_point.append(minute)\n",
    "    category_data_point.append(year)\n",
    "    \n",
    "    return category_data_point"
   ]
  },
  {
   "cell_type": "code",
   "execution_count": 6,
   "metadata": {},
   "outputs": [],
   "source": [
    "monday_data_point = category_point(future_monday)\n",
    "tuesday_data_point = category_point(future_tuesday)\n",
    "wednesday_data_point = category_point(future_wednesday)\n",
    "thursday_data_point = category_point(future_thursday)\n",
    "friday_data_point = category_point(future_friday)"
   ]
  },
  {
   "cell_type": "code",
   "execution_count": 7,
   "metadata": {},
   "outputs": [],
   "source": [
    "day_of_year_monday = int(future_monday.strftime('%j'))\n",
    "day_of_year_tuesday = int(future_tuesday.strftime('%j'))\n",
    "day_of_year_wednesday = int(future_wednesday.strftime('%j'))\n",
    "day_of_year_thursday = int(future_thursday.strftime('%j'))\n",
    "day_of_year_friday = int(future_friday.strftime('%j'))"
   ]
  },
  {
   "cell_type": "code",
   "execution_count": 8,
   "metadata": {},
   "outputs": [],
   "source": [
    "category_dictionary = {'Monday': [monday_data_point],\n",
    "                       'Tuesday': [tuesday_data_point],\n",
    "                       'Wednesday': [wednesday_data_point],\n",
    "                       'Thursday': [thursday_data_point],\n",
    "                       'Friday': [friday_data_point]}"
   ]
  },
  {
   "cell_type": "code",
   "execution_count": 9,
   "metadata": {},
   "outputs": [
    {
     "data": {
      "text/plain": [
       "{'Monday': [[8, 1, 1, 6, 29, 0, 0, 2020]],\n",
       " 'Tuesday': [[2, 1, 2, 6, 30, 0, 0, 2020]],\n",
       " 'Wednesday': [[16, 3, 3, 7, 1, 0, 0, 2020]],\n",
       " 'Thursday': [[8, 6, 4, 7, 2, 0, 0, 2020]],\n",
       " 'Friday': [[9, 4, 5, 7, 3, 0, 0, 2020]]}"
      ]
     },
     "execution_count": 9,
     "metadata": {},
     "output_type": "execute_result"
    }
   ],
   "source": [
    "category_dictionary"
   ]
  },
  {
   "cell_type": "code",
   "execution_count": 10,
   "metadata": {},
   "outputs": [],
   "source": [
    "year_num_dictionary = {'Monday_num': day_of_year_monday,\n",
    "                       'Tuesday_num': day_of_year_tuesday,\n",
    "                       'Wednesday_num': day_of_year_wednesday,\n",
    "                       'Thursday_num': day_of_year_thursday,\n",
    "                       'Friday_num': day_of_year_friday}"
   ]
  },
  {
   "cell_type": "code",
   "execution_count": 11,
   "metadata": {},
   "outputs": [
    {
     "data": {
      "text/plain": [
       "{'Monday_num': 181,\n",
       " 'Tuesday_num': 182,\n",
       " 'Wednesday_num': 183,\n",
       " 'Thursday_num': 184,\n",
       " 'Friday_num': 185}"
      ]
     },
     "execution_count": 11,
     "metadata": {},
     "output_type": "execute_result"
    }
   ],
   "source": [
    "year_num_dictionary"
   ]
  },
  {
   "cell_type": "code",
   "execution_count": 12,
   "metadata": {},
   "outputs": [],
   "source": [
    "crime_prediction_model = load_model('crime_prediction_model.h5')\n",
    "label_encoder = LabelEncoder()"
   ]
  },
  {
   "cell_type": "code",
   "execution_count": 13,
   "metadata": {},
   "outputs": [],
   "source": [
    "monday_crime = crime_prediction_model.predict(category_dictionary['Monday'])\n",
    "tuesday_crime = crime_prediction_model.predict(category_dictionary['Tuesday'])\n",
    "wednesday_crime = crime_prediction_model.predict(category_dictionary['Wednesday'])\n",
    "thursday_crime = crime_prediction_model.predict(category_dictionary['Thursday'])\n",
    "friday_crime = crime_prediction_model.predict(category_dictionary['Friday'])\n",
    "\n",
    "# monday_crime_label = label_encoder.inverse_transform([np.argmax(monday_crime, axis=None, out=None)])[0]\n",
    "# tuesday_crime_label = label_encoder.inverse_transform([np.argmax(tuesday_crime, axis=None, out=None)])[0]\n",
    "# wednesday_crime_label = label_encoder.inverse_transform([np.argmax(wednesday_crime, axis=None, out=None)])[0]\n",
    "# thursday_crime_label = label_encoder.inverse_transform([np.argmax(thursday_crime, axis=None, out=None)])[0]\n",
    "# friday_crime_label = label_encoder.inverse_transform([np.argmax(friday_crime, axis=None, out=None)])[0]"
   ]
  }
 ],
 "metadata": {
  "kernelspec": {
   "display_name": "Python 3",
   "language": "python",
   "name": "python3"
  },
  "language_info": {
   "codemirror_mode": {
    "name": "ipython",
    "version": 3
   },
   "file_extension": ".py",
   "mimetype": "text/x-python",
   "name": "python",
   "nbconvert_exporter": "python",
   "pygments_lexer": "ipython3",
   "version": "3.7.4"
  }
 },
 "nbformat": 4,
 "nbformat_minor": 4
}
