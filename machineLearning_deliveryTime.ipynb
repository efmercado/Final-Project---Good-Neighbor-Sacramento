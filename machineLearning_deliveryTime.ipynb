{
 "cells": [
  {
   "cell_type": "code",
   "execution_count": 1,
   "metadata": {},
   "outputs": [],
   "source": [
    "import pandas as pd\n",
    "import requests\n",
    "import json\n",
    "from pprint import pprint\n",
    "import time"
   ]
  },
  {
   "cell_type": "markdown",
   "metadata": {},
   "source": [
    "# Data Import\n",
    "Calling API and Importing JSON File"
   ]
  },
  {
   "cell_type": "code",
   "execution_count": 2,
   "metadata": {},
   "outputs": [],
   "source": [
    "url = \"https://services5.arcgis.com/54falWtcpty3V47Z/arcgis/rest/services/general_offenses_year3/FeatureServer/0/query?where=1%3D1&outFields=*&outSR=4326&resultType=standard&f=json\"\n",
    "json = json.loads(requests.get(url).text)"
   ]
  },
  {
   "cell_type": "markdown",
   "metadata": {},
   "source": [
    "# Reformating Data\n",
    "Pulling values from each key and listing them in a seperate variable"
   ]
  },
  {
   "cell_type": "code",
   "execution_count": 40,
   "metadata": {},
   "outputs": [],
   "source": [
    "Beat = []\n",
    "Description = []\n",
    "Grid = []\n",
    "ObjectID = []\n",
    "Occurence_Date = []\n",
    "Offense_Category = []\n",
    "Offense_Code = []\n",
    "Offense_Ext = []\n",
    "Police_District = []\n",
    "Record_ID = []\n",
    "\n",
    "for i in range(len(json['features'])):\n",
    "    for k, v in json['features'][i]['attributes'].items():\n",
    "        if k == 'Beat':\n",
    "            Beat.append(v)\n",
    "        if k == 'Description':\n",
    "            Description.append(v)\n",
    "        if k == 'Grid':\n",
    "            Grid.append(v)\n",
    "        if k == 'OBJECTID':\n",
    "            ObjectID.append(v)\n",
    "        if k == 'Occurence_Date':\n",
    "            Occurence_Date.append(v)\n",
    "        if k == 'Offense_Category':\n",
    "            Offense_Category.append(v)\n",
    "        if k == 'Offense_Code':\n",
    "            Offense_Code.append(v)\n",
    "        if k == 'Offense_Ext':\n",
    "            Offense_Ext.append(v)\n",
    "        if k == 'Police_District':\n",
    "            Police_District.append(v)\n",
    "        if k == 'Record_ID':\n",
    "            Record_ID.append(v)"
   ]
  },
  {
   "cell_type": "markdown",
   "metadata": {},
   "source": [
    "# Creating New Dictionary\n",
    "Creating a dictionary with our new lists"
   ]
  },
  {
   "cell_type": "code",
   "execution_count": 5,
   "metadata": {},
   "outputs": [],
   "source": [
    "crime_dict = {'Beat': Beat,\n",
    " 'Description': Description,\n",
    " 'Grid': Grid,\n",
    " 'ObjectID': ObjectID,\n",
    " 'Occurence_Date': Occurence_Date,\n",
    " 'Offense_Category': Offense_Category,\n",
    " 'Offense_Code': Offense_Code,\n",
    " 'Offense_Ext': Offense_Ext,\n",
    " 'Police_District': Police_District,\n",
    " 'Record_ID': Record_ID}"
   ]
  },
  {
   "cell_type": "markdown",
   "metadata": {},
   "source": [
    "# Transforming Dictionary to DataFrame"
   ]
  },
  {
   "cell_type": "code",
   "execution_count": 6,
   "metadata": {},
   "outputs": [],
   "source": [
    "crime_df = pd.DataFrame(crime_dict).set_index('ObjectID')"
   ]
  },
  {
   "cell_type": "code",
   "execution_count": 42,
   "metadata": {},
   "outputs": [
    {
     "data": {
      "text/plain": [
       "Beat                 5835\n",
       "Description          5835\n",
       "Grid                 5835\n",
       "Occurence_Date       5835\n",
       "Offense_Category     5835\n",
       "Offense_Code         5835\n",
       "Offense_Ext          5835\n",
       "Police_District      5835\n",
       "Record_ID            5835\n",
       "Occurence_day        5835\n",
       "Occurence_dayName    5835\n",
       "Occurence_hour       5835\n",
       "dtype: int64"
      ]
     },
     "execution_count": 42,
     "metadata": {},
     "output_type": "execute_result"
    }
   ],
   "source": [
    "crime_df = crime_df.loc[crime_df['Beat'] != 'UI']\n",
    "crime_df = crime_df.loc[crime_df['Offense_Category'].isin(['AUTO THEFT', 'BURGLARY','GRAND THEFT','LARCENY', 'PRIVACY', 'ROBBERY', 'STOLEN PROP', 'THEFT', 'TREPASS', 'TRESPASS'])]\n",
    "crime_df.dropna(inplace=True)\n",
    "crime_df.reset_index(drop=True, inplace=True)\n",
    "crime_df.count()"
   ]
  },
  {
   "cell_type": "code",
   "execution_count": 43,
   "metadata": {},
   "outputs": [
    {
     "data": {
      "text/plain": [
       "Beat                 object\n",
       "Description          object\n",
       "Grid                  int64\n",
       "Occurence_Date       object\n",
       "Offense_Category     object\n",
       "Offense_Code          int64\n",
       "Offense_Ext          object\n",
       "Police_District       int64\n",
       "Record_ID             int64\n",
       "Occurence_day         int64\n",
       "Occurence_dayName    object\n",
       "Occurence_hour        int64\n",
       "dtype: object"
      ]
     },
     "execution_count": 43,
     "metadata": {},
     "output_type": "execute_result"
    }
   ],
   "source": [
    "# Reviewing data types\n",
    "crime_df.dtypes"
   ]
  },
  {
   "cell_type": "markdown",
   "metadata": {},
   "source": [
    "# Converting Data Types"
   ]
  },
  {
   "cell_type": "code",
   "execution_count": 44,
   "metadata": {},
   "outputs": [],
   "source": [
    "crime_df['Grid'] = crime_df['Grid'].astype('int')\n",
    "crime_df['Occurence_Date'] = crime_df['Occurence_Date'].astype('str')\n",
    "crime_df['Offense_Code'] = crime_df['Offense_Code'].astype('int')\n",
    "crime_df['Police_District'] = crime_df['Police_District'].astype('int')\n",
    "crime_df['Record_ID'] = crime_df['Record_ID'].astype('int')"
   ]
  },
  {
   "cell_type": "code",
   "execution_count": 45,
   "metadata": {},
   "outputs": [
    {
     "data": {
      "text/plain": [
       "Beat                 object\n",
       "Description          object\n",
       "Grid                  int64\n",
       "Occurence_Date       object\n",
       "Offense_Category     object\n",
       "Offense_Code          int64\n",
       "Offense_Ext          object\n",
       "Police_District       int64\n",
       "Record_ID             int64\n",
       "Occurence_day         int64\n",
       "Occurence_dayName    object\n",
       "Occurence_hour        int64\n",
       "dtype: object"
      ]
     },
     "execution_count": 45,
     "metadata": {},
     "output_type": "execute_result"
    }
   ],
   "source": [
    "crime_df.dtypes"
   ]
  },
  {
   "cell_type": "code",
   "execution_count": 46,
   "metadata": {},
   "outputs": [
    {
     "data": {
      "text/html": [
       "<div>\n",
       "<style scoped>\n",
       "    .dataframe tbody tr th:only-of-type {\n",
       "        vertical-align: middle;\n",
       "    }\n",
       "\n",
       "    .dataframe tbody tr th {\n",
       "        vertical-align: top;\n",
       "    }\n",
       "\n",
       "    .dataframe thead th {\n",
       "        text-align: right;\n",
       "    }\n",
       "</style>\n",
       "<table border=\"1\" class=\"dataframe\">\n",
       "  <thead>\n",
       "    <tr style=\"text-align: right;\">\n",
       "      <th></th>\n",
       "      <th>Beat</th>\n",
       "      <th>Description</th>\n",
       "      <th>Grid</th>\n",
       "      <th>Occurence_Date</th>\n",
       "      <th>Offense_Category</th>\n",
       "      <th>Offense_Code</th>\n",
       "      <th>Offense_Ext</th>\n",
       "      <th>Police_District</th>\n",
       "      <th>Record_ID</th>\n",
       "      <th>Occurence_day</th>\n",
       "      <th>Occurence_dayName</th>\n",
       "      <th>Occurence_hour</th>\n",
       "    </tr>\n",
       "  </thead>\n",
       "  <tbody>\n",
       "    <tr>\n",
       "      <th>0</th>\n",
       "      <td>3B</td>\n",
       "      <td>487(A) PC GRAND THEFT &gt;$950</td>\n",
       "      <td>748</td>\n",
       "      <td>Wed 01-01-2020, 01:15:00 AM</td>\n",
       "      <td>LARCENY</td>\n",
       "      <td>2303</td>\n",
       "      <td>1</td>\n",
       "      <td>3</td>\n",
       "      <td>1429889</td>\n",
       "      <td>2</td>\n",
       "      <td>Wednesday</td>\n",
       "      <td>1</td>\n",
       "    </tr>\n",
       "    <tr>\n",
       "      <th>1</th>\n",
       "      <td>3B</td>\n",
       "      <td>484 PC PETTY THEFT</td>\n",
       "      <td>748</td>\n",
       "      <td>Wed 01-01-2020, 01:30:00 AM</td>\n",
       "      <td>LARCENY</td>\n",
       "      <td>2399</td>\n",
       "      <td>2</td>\n",
       "      <td>3</td>\n",
       "      <td>1429894</td>\n",
       "      <td>2</td>\n",
       "      <td>Wednesday</td>\n",
       "      <td>1</td>\n",
       "    </tr>\n",
       "    <tr>\n",
       "      <th>2</th>\n",
       "      <td>3A</td>\n",
       "      <td>459 PC BURG VEHICLE</td>\n",
       "      <td>725</td>\n",
       "      <td>Wed 01-01-2020, 10:40:00 AM</td>\n",
       "      <td>BURGLARY</td>\n",
       "      <td>2299</td>\n",
       "      <td>01</td>\n",
       "      <td>3</td>\n",
       "      <td>1429896</td>\n",
       "      <td>2</td>\n",
       "      <td>Wednesday</td>\n",
       "      <td>10</td>\n",
       "    </tr>\n",
       "    <tr>\n",
       "      <th>3</th>\n",
       "      <td>4A</td>\n",
       "      <td>459.5 BURGLARY SHOPLIFT &lt; $950</td>\n",
       "      <td>965</td>\n",
       "      <td>Wed 01-01-2020, 02:30:00 PM</td>\n",
       "      <td>BURGLARY</td>\n",
       "      <td>2205</td>\n",
       "      <td>3</td>\n",
       "      <td>4</td>\n",
       "      <td>1429900</td>\n",
       "      <td>2</td>\n",
       "      <td>Wednesday</td>\n",
       "      <td>14</td>\n",
       "    </tr>\n",
       "    <tr>\n",
       "      <th>4</th>\n",
       "      <td>4A</td>\n",
       "      <td>459.5 BURGLARY SHOPLIFT &lt; $950</td>\n",
       "      <td>965</td>\n",
       "      <td>Wed 01-01-2020, 02:10:00 PM</td>\n",
       "      <td>BURGLARY</td>\n",
       "      <td>2205</td>\n",
       "      <td>3</td>\n",
       "      <td>4</td>\n",
       "      <td>1429902</td>\n",
       "      <td>2</td>\n",
       "      <td>Wednesday</td>\n",
       "      <td>14</td>\n",
       "    </tr>\n",
       "    <tr>\n",
       "      <th>...</th>\n",
       "      <td>...</td>\n",
       "      <td>...</td>\n",
       "      <td>...</td>\n",
       "      <td>...</td>\n",
       "      <td>...</td>\n",
       "      <td>...</td>\n",
       "      <td>...</td>\n",
       "      <td>...</td>\n",
       "      <td>...</td>\n",
       "      <td>...</td>\n",
       "      <td>...</td>\n",
       "      <td>...</td>\n",
       "    </tr>\n",
       "    <tr>\n",
       "      <th>5830</th>\n",
       "      <td>3B</td>\n",
       "      <td>484 PC PETTY THEFT</td>\n",
       "      <td>767</td>\n",
       "      <td>Fri 03-27-2020, 04:15:00 PM</td>\n",
       "      <td>LARCENY</td>\n",
       "      <td>2399</td>\n",
       "      <td>2</td>\n",
       "      <td>3</td>\n",
       "      <td>1459365</td>\n",
       "      <td>4</td>\n",
       "      <td>Friday</td>\n",
       "      <td>16</td>\n",
       "    </tr>\n",
       "    <tr>\n",
       "      <th>5831</th>\n",
       "      <td>2B</td>\n",
       "      <td>484 PC PETTY THEFT/INSIDE</td>\n",
       "      <td>564</td>\n",
       "      <td>Fri 05-01-2020, 12:01:00 AM</td>\n",
       "      <td>LARCENY</td>\n",
       "      <td>2308</td>\n",
       "      <td>0</td>\n",
       "      <td>2</td>\n",
       "      <td>1459373</td>\n",
       "      <td>4</td>\n",
       "      <td>Friday</td>\n",
       "      <td>0</td>\n",
       "    </tr>\n",
       "    <tr>\n",
       "      <th>5832</th>\n",
       "      <td>3B</td>\n",
       "      <td>459 PC BURG RESIDENCE-FORCE</td>\n",
       "      <td>746</td>\n",
       "      <td>Thu 04-16-2020, 05:20:00 PM</td>\n",
       "      <td>BURGLARY</td>\n",
       "      <td>2202</td>\n",
       "      <td>0</td>\n",
       "      <td>3</td>\n",
       "      <td>1459388</td>\n",
       "      <td>3</td>\n",
       "      <td>Thursday</td>\n",
       "      <td>17</td>\n",
       "    </tr>\n",
       "    <tr>\n",
       "      <th>5833</th>\n",
       "      <td>1A</td>\n",
       "      <td>484 PC PETTY THEFT</td>\n",
       "      <td>302</td>\n",
       "      <td>Fri 05-29-2020, 09:38:00 PM</td>\n",
       "      <td>LARCENY</td>\n",
       "      <td>2399</td>\n",
       "      <td>2</td>\n",
       "      <td>1</td>\n",
       "      <td>1459402</td>\n",
       "      <td>4</td>\n",
       "      <td>Friday</td>\n",
       "      <td>21</td>\n",
       "    </tr>\n",
       "    <tr>\n",
       "      <th>5834</th>\n",
       "      <td>4B</td>\n",
       "      <td>484 PC PETTY THEFT</td>\n",
       "      <td>1351</td>\n",
       "      <td>Tue 05-19-2020, 08:50:00 PM</td>\n",
       "      <td>LARCENY</td>\n",
       "      <td>2399</td>\n",
       "      <td>2</td>\n",
       "      <td>4</td>\n",
       "      <td>1459418</td>\n",
       "      <td>1</td>\n",
       "      <td>Tuesday</td>\n",
       "      <td>20</td>\n",
       "    </tr>\n",
       "  </tbody>\n",
       "</table>\n",
       "<p>5835 rows × 12 columns</p>\n",
       "</div>"
      ],
      "text/plain": [
       "     Beat                     Description  Grid               Occurence_Date  \\\n",
       "0      3B     487(A) PC GRAND THEFT >$950   748  Wed 01-01-2020, 01:15:00 AM   \n",
       "1      3B              484 PC PETTY THEFT   748  Wed 01-01-2020, 01:30:00 AM   \n",
       "2      3A             459 PC BURG VEHICLE   725  Wed 01-01-2020, 10:40:00 AM   \n",
       "3      4A  459.5 BURGLARY SHOPLIFT < $950   965  Wed 01-01-2020, 02:30:00 PM   \n",
       "4      4A  459.5 BURGLARY SHOPLIFT < $950   965  Wed 01-01-2020, 02:10:00 PM   \n",
       "...   ...                             ...   ...                          ...   \n",
       "5830   3B              484 PC PETTY THEFT   767  Fri 03-27-2020, 04:15:00 PM   \n",
       "5831   2B       484 PC PETTY THEFT/INSIDE   564  Fri 05-01-2020, 12:01:00 AM   \n",
       "5832   3B     459 PC BURG RESIDENCE-FORCE   746  Thu 04-16-2020, 05:20:00 PM   \n",
       "5833   1A              484 PC PETTY THEFT   302  Fri 05-29-2020, 09:38:00 PM   \n",
       "5834   4B              484 PC PETTY THEFT  1351  Tue 05-19-2020, 08:50:00 PM   \n",
       "\n",
       "     Offense_Category  Offense_Code Offense_Ext  Police_District  Record_ID  \\\n",
       "0             LARCENY          2303           1                3    1429889   \n",
       "1             LARCENY          2399           2                3    1429894   \n",
       "2            BURGLARY          2299          01                3    1429896   \n",
       "3            BURGLARY          2205           3                4    1429900   \n",
       "4            BURGLARY          2205           3                4    1429902   \n",
       "...               ...           ...         ...              ...        ...   \n",
       "5830          LARCENY          2399           2                3    1459365   \n",
       "5831          LARCENY          2308           0                2    1459373   \n",
       "5832         BURGLARY          2202           0                3    1459388   \n",
       "5833          LARCENY          2399           2                1    1459402   \n",
       "5834          LARCENY          2399           2                4    1459418   \n",
       "\n",
       "      Occurence_day Occurence_dayName  Occurence_hour  \n",
       "0                 2         Wednesday               1  \n",
       "1                 2         Wednesday               1  \n",
       "2                 2         Wednesday              10  \n",
       "3                 2         Wednesday              14  \n",
       "4                 2         Wednesday              14  \n",
       "...             ...               ...             ...  \n",
       "5830              4            Friday              16  \n",
       "5831              4            Friday               0  \n",
       "5832              3          Thursday              17  \n",
       "5833              4            Friday              21  \n",
       "5834              1           Tuesday              20  \n",
       "\n",
       "[5835 rows x 12 columns]"
      ]
     },
     "execution_count": 46,
     "metadata": {},
     "output_type": "execute_result"
    }
   ],
   "source": [
    "crime_df"
   ]
  },
  {
   "cell_type": "code",
   "execution_count": 47,
   "metadata": {},
   "outputs": [
    {
     "ename": "ValueError",
     "evalue": "invalid literal for int() with base 10: 'Wed 01-01-'",
     "output_type": "error",
     "traceback": [
      "\u001b[0;31m---------------------------------------------------------------------------\u001b[0m",
      "\u001b[0;31mValueError\u001b[0m                                Traceback (most recent call last)",
      "\u001b[0;32m<ipython-input-47-e894fc638f70>\u001b[0m in \u001b[0;36m<module>\u001b[0;34m\u001b[0m\n\u001b[1;32m      2\u001b[0m \u001b[0;32mfor\u001b[0m \u001b[0mi\u001b[0m \u001b[0;32min\u001b[0m \u001b[0mrange\u001b[0m\u001b[0;34m(\u001b[0m\u001b[0mlen\u001b[0m\u001b[0;34m(\u001b[0m\u001b[0mcrime_df\u001b[0m\u001b[0;34m)\u001b[0m\u001b[0;34m)\u001b[0m\u001b[0;34m:\u001b[0m\u001b[0;34m\u001b[0m\u001b[0;34m\u001b[0m\u001b[0m\n\u001b[1;32m      3\u001b[0m         \u001b[0mtrimmed_unix\u001b[0m \u001b[0;34m=\u001b[0m \u001b[0mcrime_df\u001b[0m\u001b[0;34m[\u001b[0m\u001b[0;34m'Occurence_Date'\u001b[0m\u001b[0;34m]\u001b[0m\u001b[0;34m[\u001b[0m\u001b[0mi\u001b[0m\u001b[0;34m]\u001b[0m\u001b[0;34m[\u001b[0m\u001b[0;36m0\u001b[0m\u001b[0;34m:\u001b[0m\u001b[0;36m10\u001b[0m\u001b[0;34m]\u001b[0m\u001b[0;34m\u001b[0m\u001b[0;34m\u001b[0m\u001b[0m\n\u001b[0;32m----> 4\u001b[0;31m         \u001b[0mdate_time\u001b[0m \u001b[0;34m=\u001b[0m \u001b[0mtime\u001b[0m\u001b[0;34m.\u001b[0m\u001b[0mstrftime\u001b[0m\u001b[0;34m(\u001b[0m\u001b[0;34m'%a %m-%d-%Y, %I:%M:%S %p'\u001b[0m\u001b[0;34m,\u001b[0m \u001b[0mtime\u001b[0m\u001b[0;34m.\u001b[0m\u001b[0mlocaltime\u001b[0m\u001b[0;34m(\u001b[0m\u001b[0mint\u001b[0m\u001b[0;34m(\u001b[0m\u001b[0mtrimmed_unix\u001b[0m\u001b[0;34m)\u001b[0m\u001b[0;34m)\u001b[0m\u001b[0;34m)\u001b[0m\u001b[0;34m\u001b[0m\u001b[0;34m\u001b[0m\u001b[0m\n\u001b[0m\u001b[1;32m      5\u001b[0m         \u001b[0mOccurence_Date\u001b[0m\u001b[0;34m.\u001b[0m\u001b[0mappend\u001b[0m\u001b[0;34m(\u001b[0m\u001b[0mdate_time\u001b[0m\u001b[0;34m)\u001b[0m\u001b[0;34m\u001b[0m\u001b[0;34m\u001b[0m\u001b[0m\n\u001b[1;32m      6\u001b[0m \u001b[0;34m\u001b[0m\u001b[0m\n",
      "\u001b[0;31mValueError\u001b[0m: invalid literal for int() with base 10: 'Wed 01-01-'"
     ]
    }
   ],
   "source": [
    "Occurence_Date = []\n",
    "for i in range(len(crime_df)):\n",
    "        trimmed_unix = crime_df['Occurence_Date'][i][0:10]\n",
    "        date_time = time.strftime('%a %m-%d-%Y, %I:%M:%S %p', time.localtime(int(trimmed_unix)))\n",
    "        Occurence_Date.append(date_time)\n",
    "\n",
    "crime_df['Occurence_Date'] = Occurence_Date"
   ]
  },
  {
   "cell_type": "code",
   "execution_count": 13,
   "metadata": {},
   "outputs": [
    {
     "data": {
      "text/html": [
       "<div>\n",
       "<style scoped>\n",
       "    .dataframe tbody tr th:only-of-type {\n",
       "        vertical-align: middle;\n",
       "    }\n",
       "\n",
       "    .dataframe tbody tr th {\n",
       "        vertical-align: top;\n",
       "    }\n",
       "\n",
       "    .dataframe thead th {\n",
       "        text-align: right;\n",
       "    }\n",
       "</style>\n",
       "<table border=\"1\" class=\"dataframe\">\n",
       "  <thead>\n",
       "    <tr style=\"text-align: right;\">\n",
       "      <th></th>\n",
       "      <th>Beat</th>\n",
       "      <th>Description</th>\n",
       "      <th>Grid</th>\n",
       "      <th>Occurence_Date</th>\n",
       "      <th>Offense_Category</th>\n",
       "      <th>Offense_Code</th>\n",
       "      <th>Offense_Ext</th>\n",
       "      <th>Police_District</th>\n",
       "      <th>Record_ID</th>\n",
       "    </tr>\n",
       "  </thead>\n",
       "  <tbody>\n",
       "    <tr>\n",
       "      <th>0</th>\n",
       "      <td>6B</td>\n",
       "      <td>246 PC SHOOT OCCUP DWELL/VEH</td>\n",
       "      <td>1401</td>\n",
       "      <td>Wed 01-01-2020, 12:17:00 AM</td>\n",
       "      <td>WEAPON OFFENSE</td>\n",
       "      <td>5213</td>\n",
       "      <td>4</td>\n",
       "      <td>6</td>\n",
       "      <td>1429759</td>\n",
       "    </tr>\n",
       "    <tr>\n",
       "      <th>1</th>\n",
       "      <td>2B</td>\n",
       "      <td>594(A)(2) VANDALISM-DAMAGE</td>\n",
       "      <td>564</td>\n",
       "      <td>Wed 01-01-2020, 01:53:00 AM</td>\n",
       "      <td>VANDALISM</td>\n",
       "      <td>2999</td>\n",
       "      <td>33</td>\n",
       "      <td>2</td>\n",
       "      <td>1429760</td>\n",
       "    </tr>\n",
       "    <tr>\n",
       "      <th>2</th>\n",
       "      <td>3M</td>\n",
       "      <td>69 PC RESIST/OBSTRCT EXEC OFC</td>\n",
       "      <td>741</td>\n",
       "      <td>Wed 01-01-2020, 01:48:00 AM</td>\n",
       "      <td>OBSTRUCTING</td>\n",
       "      <td>4801</td>\n",
       "      <td>5</td>\n",
       "      <td>3</td>\n",
       "      <td>1429779</td>\n",
       "    </tr>\n",
       "    <tr>\n",
       "      <th>3</th>\n",
       "      <td>6C</td>\n",
       "      <td>10851(A)VC TAKE VEH W/O OWNER</td>\n",
       "      <td>1441</td>\n",
       "      <td>Wed 01-01-2020, 03:00:00 AM</td>\n",
       "      <td>STOLEN VEHICLE</td>\n",
       "      <td>2404</td>\n",
       "      <td>0</td>\n",
       "      <td>6</td>\n",
       "      <td>1429804</td>\n",
       "    </tr>\n",
       "    <tr>\n",
       "      <th>4</th>\n",
       "      <td>3B</td>\n",
       "      <td>23153(A) DUI ALCOHOL W/INJ</td>\n",
       "      <td>777</td>\n",
       "      <td>Wed 01-01-2020, 02:43:00 AM</td>\n",
       "      <td>TRAFFIC</td>\n",
       "      <td>5404</td>\n",
       "      <td>10</td>\n",
       "      <td>3</td>\n",
       "      <td>1429831</td>\n",
       "    </tr>\n",
       "    <tr>\n",
       "      <th>...</th>\n",
       "      <td>...</td>\n",
       "      <td>...</td>\n",
       "      <td>...</td>\n",
       "      <td>...</td>\n",
       "      <td>...</td>\n",
       "      <td>...</td>\n",
       "      <td>...</td>\n",
       "      <td>...</td>\n",
       "      <td>...</td>\n",
       "    </tr>\n",
       "    <tr>\n",
       "      <th>14131</th>\n",
       "      <td>1A</td>\n",
       "      <td>484 PC PETTY THEFT</td>\n",
       "      <td>302</td>\n",
       "      <td>Fri 05-29-2020, 09:38:00 PM</td>\n",
       "      <td>LARCENY</td>\n",
       "      <td>2399</td>\n",
       "      <td>2</td>\n",
       "      <td>1</td>\n",
       "      <td>1459402</td>\n",
       "    </tr>\n",
       "    <tr>\n",
       "      <th>14132</th>\n",
       "      <td>4B</td>\n",
       "      <td>484 PC PETTY THEFT</td>\n",
       "      <td>1351</td>\n",
       "      <td>Tue 05-19-2020, 08:50:00 PM</td>\n",
       "      <td>LARCENY</td>\n",
       "      <td>2399</td>\n",
       "      <td>2</td>\n",
       "      <td>4</td>\n",
       "      <td>1459418</td>\n",
       "    </tr>\n",
       "    <tr>\n",
       "      <th>14133</th>\n",
       "      <td>6C</td>\n",
       "      <td>20002(A) HIT/RUN-FAIL INFO</td>\n",
       "      <td>1447</td>\n",
       "      <td>Thu 05-28-2020, 06:00:00 PM</td>\n",
       "      <td>TRAFFIC</td>\n",
       "      <td>5401</td>\n",
       "      <td>0</td>\n",
       "      <td>6</td>\n",
       "      <td>1459429</td>\n",
       "    </tr>\n",
       "    <tr>\n",
       "      <th>14134</th>\n",
       "      <td>6E</td>\n",
       "      <td>TRAFFIC ACCIDENT-INJURY</td>\n",
       "      <td>1102</td>\n",
       "      <td>Tue 05-26-2020, 07:41:00 PM</td>\n",
       "      <td>TRAFFIC</td>\n",
       "      <td>5400</td>\n",
       "      <td>0</td>\n",
       "      <td>6</td>\n",
       "      <td>1459437</td>\n",
       "    </tr>\n",
       "    <tr>\n",
       "      <th>14135</th>\n",
       "      <td>2C</td>\n",
       "      <td>10851(A)VC TAKE VEH W/O OWNER</td>\n",
       "      <td>626</td>\n",
       "      <td>Sat 05-30-2020, 05:00:00 PM</td>\n",
       "      <td>STOLEN VEHICLE</td>\n",
       "      <td>2404</td>\n",
       "      <td>0</td>\n",
       "      <td>2</td>\n",
       "      <td>1459439</td>\n",
       "    </tr>\n",
       "  </tbody>\n",
       "</table>\n",
       "<p>14136 rows × 9 columns</p>\n",
       "</div>"
      ],
      "text/plain": [
       "      Beat                    Description  Grid               Occurence_Date  \\\n",
       "0       6B   246 PC SHOOT OCCUP DWELL/VEH  1401  Wed 01-01-2020, 12:17:00 AM   \n",
       "1       2B     594(A)(2) VANDALISM-DAMAGE   564  Wed 01-01-2020, 01:53:00 AM   \n",
       "2       3M  69 PC RESIST/OBSTRCT EXEC OFC   741  Wed 01-01-2020, 01:48:00 AM   \n",
       "3       6C  10851(A)VC TAKE VEH W/O OWNER  1441  Wed 01-01-2020, 03:00:00 AM   \n",
       "4       3B     23153(A) DUI ALCOHOL W/INJ   777  Wed 01-01-2020, 02:43:00 AM   \n",
       "...    ...                            ...   ...                          ...   \n",
       "14131   1A             484 PC PETTY THEFT   302  Fri 05-29-2020, 09:38:00 PM   \n",
       "14132   4B             484 PC PETTY THEFT  1351  Tue 05-19-2020, 08:50:00 PM   \n",
       "14133   6C     20002(A) HIT/RUN-FAIL INFO  1447  Thu 05-28-2020, 06:00:00 PM   \n",
       "14134   6E        TRAFFIC ACCIDENT-INJURY  1102  Tue 05-26-2020, 07:41:00 PM   \n",
       "14135   2C  10851(A)VC TAKE VEH W/O OWNER   626  Sat 05-30-2020, 05:00:00 PM   \n",
       "\n",
       "      Offense_Category  Offense_Code Offense_Ext  Police_District  Record_ID  \n",
       "0       WEAPON OFFENSE          5213           4                6    1429759  \n",
       "1            VANDALISM          2999          33                2    1429760  \n",
       "2          OBSTRUCTING          4801           5                3    1429779  \n",
       "3       STOLEN VEHICLE          2404           0                6    1429804  \n",
       "4              TRAFFIC          5404          10                3    1429831  \n",
       "...                ...           ...         ...              ...        ...  \n",
       "14131          LARCENY          2399           2                1    1459402  \n",
       "14132          LARCENY          2399           2                4    1459418  \n",
       "14133          TRAFFIC          5401           0                6    1459429  \n",
       "14134          TRAFFIC          5400           0                6    1459437  \n",
       "14135   STOLEN VEHICLE          2404           0                2    1459439  \n",
       "\n",
       "[14136 rows x 9 columns]"
      ]
     },
     "execution_count": 13,
     "metadata": {},
     "output_type": "execute_result"
    }
   ],
   "source": [
    "crime_df"
   ]
  },
  {
   "cell_type": "code",
   "execution_count": 14,
   "metadata": {},
   "outputs": [
    {
     "data": {
      "text/plain": [
       "0        2\n",
       "1        2\n",
       "2        2\n",
       "3        2\n",
       "4        2\n",
       "        ..\n",
       "14131    4\n",
       "14132    1\n",
       "14133    3\n",
       "14134    1\n",
       "14135    5\n",
       "Name: Occurence_dayName, Length: 14136, dtype: int64"
      ]
     },
     "execution_count": 14,
     "metadata": {},
     "output_type": "execute_result"
    }
   ],
   "source": [
    "crime_df['Occurence_day'] = pd.DatetimeIndex(crime_df['Occurence_Date']).dayofweek\n",
    "crime_df['Occurence_dayName'] = pd.DatetimeIndex(crime_df['Occurence_Date']).weekday\n",
    "\n",
    "crime_df['Occurence_dayName']"
   ]
  },
  {
   "cell_type": "code",
   "execution_count": 15,
   "metadata": {},
   "outputs": [
    {
     "data": {
      "text/plain": [
       "0         0\n",
       "1         1\n",
       "2         1\n",
       "3         3\n",
       "4         2\n",
       "         ..\n",
       "14131    21\n",
       "14132    20\n",
       "14133    18\n",
       "14134    19\n",
       "14135    17\n",
       "Name: Occurence_hour, Length: 14136, dtype: int64"
      ]
     },
     "execution_count": 15,
     "metadata": {},
     "output_type": "execute_result"
    }
   ],
   "source": [
    "crime_df['Occurence_hour'] = pd.DatetimeIndex(crime_df['Occurence_Date']).hour\n",
    "crime_df['Occurence_hour']"
   ]
  },
  {
   "cell_type": "code",
   "execution_count": 16,
   "metadata": {},
   "outputs": [],
   "source": [
    "import datetime as dt"
   ]
  },
  {
   "cell_type": "code",
   "execution_count": 17,
   "metadata": {},
   "outputs": [
    {
     "data": {
      "text/plain": [
       "0        Wednesday\n",
       "1        Wednesday\n",
       "2        Wednesday\n",
       "3        Wednesday\n",
       "4        Wednesday\n",
       "           ...    \n",
       "14131       Friday\n",
       "14132      Tuesday\n",
       "14133     Thursday\n",
       "14134      Tuesday\n",
       "14135     Saturday\n",
       "Name: Occurence_dayName, Length: 14136, dtype: object"
      ]
     },
     "execution_count": 17,
     "metadata": {},
     "output_type": "execute_result"
    }
   ],
   "source": [
    "dayOfWeek={0:'Monday', 1:'Tuesday', 2:'Wednesday', 3:'Thursday', 4:'Friday', 5:'Saturday', 6:'Sunday'}\n",
    "crime_df['Occurence_dayName'] = crime_df['Occurence_day'].map(dayOfWeek)\n",
    "\n",
    "crime_df['Occurence_dayName']"
   ]
  },
  {
   "cell_type": "code",
   "execution_count": 18,
   "metadata": {},
   "outputs": [
    {
     "data": {
      "text/html": [
       "<div>\n",
       "<style scoped>\n",
       "    .dataframe tbody tr th:only-of-type {\n",
       "        vertical-align: middle;\n",
       "    }\n",
       "\n",
       "    .dataframe tbody tr th {\n",
       "        vertical-align: top;\n",
       "    }\n",
       "\n",
       "    .dataframe thead th {\n",
       "        text-align: right;\n",
       "    }\n",
       "</style>\n",
       "<table border=\"1\" class=\"dataframe\">\n",
       "  <thead>\n",
       "    <tr style=\"text-align: right;\">\n",
       "      <th></th>\n",
       "      <th>Beat</th>\n",
       "      <th>Description</th>\n",
       "      <th>Grid</th>\n",
       "      <th>Occurence_Date</th>\n",
       "      <th>Offense_Category</th>\n",
       "      <th>Offense_Code</th>\n",
       "      <th>Offense_Ext</th>\n",
       "      <th>Police_District</th>\n",
       "      <th>Record_ID</th>\n",
       "      <th>Occurence_day</th>\n",
       "      <th>Occurence_dayName</th>\n",
       "      <th>Occurence_hour</th>\n",
       "    </tr>\n",
       "  </thead>\n",
       "  <tbody>\n",
       "    <tr>\n",
       "      <th>0</th>\n",
       "      <td>6B</td>\n",
       "      <td>246 PC SHOOT OCCUP DWELL/VEH</td>\n",
       "      <td>1401</td>\n",
       "      <td>Wed 01-01-2020, 12:17:00 AM</td>\n",
       "      <td>WEAPON OFFENSE</td>\n",
       "      <td>5213</td>\n",
       "      <td>4</td>\n",
       "      <td>6</td>\n",
       "      <td>1429759</td>\n",
       "      <td>2</td>\n",
       "      <td>Wednesday</td>\n",
       "      <td>0</td>\n",
       "    </tr>\n",
       "    <tr>\n",
       "      <th>1</th>\n",
       "      <td>2B</td>\n",
       "      <td>594(A)(2) VANDALISM-DAMAGE</td>\n",
       "      <td>564</td>\n",
       "      <td>Wed 01-01-2020, 01:53:00 AM</td>\n",
       "      <td>VANDALISM</td>\n",
       "      <td>2999</td>\n",
       "      <td>33</td>\n",
       "      <td>2</td>\n",
       "      <td>1429760</td>\n",
       "      <td>2</td>\n",
       "      <td>Wednesday</td>\n",
       "      <td>1</td>\n",
       "    </tr>\n",
       "    <tr>\n",
       "      <th>2</th>\n",
       "      <td>3M</td>\n",
       "      <td>69 PC RESIST/OBSTRCT EXEC OFC</td>\n",
       "      <td>741</td>\n",
       "      <td>Wed 01-01-2020, 01:48:00 AM</td>\n",
       "      <td>OBSTRUCTING</td>\n",
       "      <td>4801</td>\n",
       "      <td>5</td>\n",
       "      <td>3</td>\n",
       "      <td>1429779</td>\n",
       "      <td>2</td>\n",
       "      <td>Wednesday</td>\n",
       "      <td>1</td>\n",
       "    </tr>\n",
       "    <tr>\n",
       "      <th>3</th>\n",
       "      <td>6C</td>\n",
       "      <td>10851(A)VC TAKE VEH W/O OWNER</td>\n",
       "      <td>1441</td>\n",
       "      <td>Wed 01-01-2020, 03:00:00 AM</td>\n",
       "      <td>STOLEN VEHICLE</td>\n",
       "      <td>2404</td>\n",
       "      <td>0</td>\n",
       "      <td>6</td>\n",
       "      <td>1429804</td>\n",
       "      <td>2</td>\n",
       "      <td>Wednesday</td>\n",
       "      <td>3</td>\n",
       "    </tr>\n",
       "    <tr>\n",
       "      <th>4</th>\n",
       "      <td>3B</td>\n",
       "      <td>23153(A) DUI ALCOHOL W/INJ</td>\n",
       "      <td>777</td>\n",
       "      <td>Wed 01-01-2020, 02:43:00 AM</td>\n",
       "      <td>TRAFFIC</td>\n",
       "      <td>5404</td>\n",
       "      <td>10</td>\n",
       "      <td>3</td>\n",
       "      <td>1429831</td>\n",
       "      <td>2</td>\n",
       "      <td>Wednesday</td>\n",
       "      <td>2</td>\n",
       "    </tr>\n",
       "  </tbody>\n",
       "</table>\n",
       "</div>"
      ],
      "text/plain": [
       "  Beat                    Description  Grid               Occurence_Date  \\\n",
       "0   6B   246 PC SHOOT OCCUP DWELL/VEH  1401  Wed 01-01-2020, 12:17:00 AM   \n",
       "1   2B     594(A)(2) VANDALISM-DAMAGE   564  Wed 01-01-2020, 01:53:00 AM   \n",
       "2   3M  69 PC RESIST/OBSTRCT EXEC OFC   741  Wed 01-01-2020, 01:48:00 AM   \n",
       "3   6C  10851(A)VC TAKE VEH W/O OWNER  1441  Wed 01-01-2020, 03:00:00 AM   \n",
       "4   3B     23153(A) DUI ALCOHOL W/INJ   777  Wed 01-01-2020, 02:43:00 AM   \n",
       "\n",
       "  Offense_Category  Offense_Code Offense_Ext  Police_District  Record_ID  \\\n",
       "0   WEAPON OFFENSE          5213           4                6    1429759   \n",
       "1        VANDALISM          2999          33                2    1429760   \n",
       "2      OBSTRUCTING          4801           5                3    1429779   \n",
       "3   STOLEN VEHICLE          2404           0                6    1429804   \n",
       "4          TRAFFIC          5404          10                3    1429831   \n",
       "\n",
       "   Occurence_day Occurence_dayName  Occurence_hour  \n",
       "0              2         Wednesday               0  \n",
       "1              2         Wednesday               1  \n",
       "2              2         Wednesday               1  \n",
       "3              2         Wednesday               3  \n",
       "4              2         Wednesday               2  "
      ]
     },
     "execution_count": 18,
     "metadata": {},
     "output_type": "execute_result"
    }
   ],
   "source": [
    "crime_df.head()"
   ]
  },
  {
   "cell_type": "markdown",
   "metadata": {},
   "source": [
    "# Placing Data Frame into a CSV"
   ]
  },
  {
   "cell_type": "code",
   "execution_count": 19,
   "metadata": {},
   "outputs": [],
   "source": [
    "crime_df.to_csv('sac_crime', index=False)"
   ]
  },
  {
   "cell_type": "markdown",
   "metadata": {},
   "source": [
    "# Machine Learning"
   ]
  },
  {
   "cell_type": "code",
   "execution_count": 20,
   "metadata": {},
   "outputs": [],
   "source": [
    "import warnings\n",
    "warnings.simplefilter('ignore')\n",
    "\n",
    "import numpy as np\n",
    "import matplotlib.pyplot as plt\n",
    "from matplotlib import style\n",
    "style.use(\"ggplot\")"
   ]
  },
  {
   "cell_type": "code",
   "execution_count": 21,
   "metadata": {},
   "outputs": [
    {
     "data": {
      "text/plain": [
       "0        WEAPON OFFENSE\n",
       "1             VANDALISM\n",
       "2           OBSTRUCTING\n",
       "3        STOLEN VEHICLE\n",
       "4               TRAFFIC\n",
       "              ...      \n",
       "14131           LARCENY\n",
       "14132           LARCENY\n",
       "14133           TRAFFIC\n",
       "14134           TRAFFIC\n",
       "14135    STOLEN VEHICLE\n",
       "Name: Offense_Category, Length: 14136, dtype: object"
      ]
     },
     "execution_count": 21,
     "metadata": {},
     "output_type": "execute_result"
    }
   ],
   "source": [
    "X = crime_df[['Police_District','Beat','Grid','Occurence_day','Occurence_hour']]\n",
    "y = crime_df[\"Offense_Category\"]\n",
    "\n",
    "crime_df[\"Offense_Category\"]"
   ]
  },
  {
   "cell_type": "markdown",
   "metadata": {},
   "source": [
    "Train_test_split to create training and testing data"
   ]
  },
  {
   "cell_type": "code",
   "execution_count": 22,
   "metadata": {},
   "outputs": [],
   "source": [
    "from sklearn.model_selection import train_test_split\n",
    "\n",
    "#Using get_dummies to convert non numerical data\n",
    "X = pd.get_dummies(X)\n",
    "\n",
    "X_train, X_test, y_train, y_test = train_test_split(\n",
    "    X, y, random_state=42)"
   ]
  },
  {
   "cell_type": "code",
   "execution_count": 23,
   "metadata": {},
   "outputs": [
    {
     "data": {
      "text/html": [
       "<div>\n",
       "<style scoped>\n",
       "    .dataframe tbody tr th:only-of-type {\n",
       "        vertical-align: middle;\n",
       "    }\n",
       "\n",
       "    .dataframe tbody tr th {\n",
       "        vertical-align: top;\n",
       "    }\n",
       "\n",
       "    .dataframe thead th {\n",
       "        text-align: right;\n",
       "    }\n",
       "</style>\n",
       "<table border=\"1\" class=\"dataframe\">\n",
       "  <thead>\n",
       "    <tr style=\"text-align: right;\">\n",
       "      <th></th>\n",
       "      <th>Police_District</th>\n",
       "      <th>Grid</th>\n",
       "      <th>Occurence_day</th>\n",
       "      <th>Occurence_hour</th>\n",
       "      <th>Beat_1A</th>\n",
       "      <th>Beat_1B</th>\n",
       "      <th>Beat_1C</th>\n",
       "      <th>Beat_2A</th>\n",
       "      <th>Beat_2B</th>\n",
       "      <th>Beat_2C</th>\n",
       "      <th>...</th>\n",
       "      <th>Beat_4B</th>\n",
       "      <th>Beat_4C</th>\n",
       "      <th>Beat_5A</th>\n",
       "      <th>Beat_5B</th>\n",
       "      <th>Beat_5C</th>\n",
       "      <th>Beat_6A</th>\n",
       "      <th>Beat_6B</th>\n",
       "      <th>Beat_6C</th>\n",
       "      <th>Beat_6D</th>\n",
       "      <th>Beat_6E</th>\n",
       "    </tr>\n",
       "  </thead>\n",
       "  <tbody>\n",
       "    <tr>\n",
       "      <th>5743</th>\n",
       "      <td>3</td>\n",
       "      <td>724</td>\n",
       "      <td>3</td>\n",
       "      <td>23</td>\n",
       "      <td>0</td>\n",
       "      <td>0</td>\n",
       "      <td>0</td>\n",
       "      <td>0</td>\n",
       "      <td>0</td>\n",
       "      <td>0</td>\n",
       "      <td>...</td>\n",
       "      <td>0</td>\n",
       "      <td>0</td>\n",
       "      <td>0</td>\n",
       "      <td>0</td>\n",
       "      <td>0</td>\n",
       "      <td>0</td>\n",
       "      <td>0</td>\n",
       "      <td>0</td>\n",
       "      <td>0</td>\n",
       "      <td>0</td>\n",
       "    </tr>\n",
       "    <tr>\n",
       "      <th>12192</th>\n",
       "      <td>6</td>\n",
       "      <td>877</td>\n",
       "      <td>5</td>\n",
       "      <td>17</td>\n",
       "      <td>0</td>\n",
       "      <td>0</td>\n",
       "      <td>0</td>\n",
       "      <td>0</td>\n",
       "      <td>0</td>\n",
       "      <td>0</td>\n",
       "      <td>...</td>\n",
       "      <td>0</td>\n",
       "      <td>0</td>\n",
       "      <td>0</td>\n",
       "      <td>0</td>\n",
       "      <td>0</td>\n",
       "      <td>0</td>\n",
       "      <td>0</td>\n",
       "      <td>0</td>\n",
       "      <td>0</td>\n",
       "      <td>1</td>\n",
       "    </tr>\n",
       "    <tr>\n",
       "      <th>5169</th>\n",
       "      <td>2</td>\n",
       "      <td>626</td>\n",
       "      <td>3</td>\n",
       "      <td>20</td>\n",
       "      <td>0</td>\n",
       "      <td>0</td>\n",
       "      <td>0</td>\n",
       "      <td>0</td>\n",
       "      <td>0</td>\n",
       "      <td>1</td>\n",
       "      <td>...</td>\n",
       "      <td>0</td>\n",
       "      <td>0</td>\n",
       "      <td>0</td>\n",
       "      <td>0</td>\n",
       "      <td>0</td>\n",
       "      <td>0</td>\n",
       "      <td>0</td>\n",
       "      <td>0</td>\n",
       "      <td>0</td>\n",
       "      <td>0</td>\n",
       "    </tr>\n",
       "    <tr>\n",
       "      <th>7195</th>\n",
       "      <td>1</td>\n",
       "      <td>328</td>\n",
       "      <td>5</td>\n",
       "      <td>20</td>\n",
       "      <td>1</td>\n",
       "      <td>0</td>\n",
       "      <td>0</td>\n",
       "      <td>0</td>\n",
       "      <td>0</td>\n",
       "      <td>0</td>\n",
       "      <td>...</td>\n",
       "      <td>0</td>\n",
       "      <td>0</td>\n",
       "      <td>0</td>\n",
       "      <td>0</td>\n",
       "      <td>0</td>\n",
       "      <td>0</td>\n",
       "      <td>0</td>\n",
       "      <td>0</td>\n",
       "      <td>0</td>\n",
       "      <td>0</td>\n",
       "    </tr>\n",
       "    <tr>\n",
       "      <th>2564</th>\n",
       "      <td>3</td>\n",
       "      <td>717</td>\n",
       "      <td>3</td>\n",
       "      <td>21</td>\n",
       "      <td>0</td>\n",
       "      <td>0</td>\n",
       "      <td>0</td>\n",
       "      <td>0</td>\n",
       "      <td>0</td>\n",
       "      <td>0</td>\n",
       "      <td>...</td>\n",
       "      <td>0</td>\n",
       "      <td>0</td>\n",
       "      <td>0</td>\n",
       "      <td>0</td>\n",
       "      <td>0</td>\n",
       "      <td>0</td>\n",
       "      <td>0</td>\n",
       "      <td>0</td>\n",
       "      <td>0</td>\n",
       "      <td>0</td>\n",
       "    </tr>\n",
       "  </tbody>\n",
       "</table>\n",
       "<p>5 rows × 24 columns</p>\n",
       "</div>"
      ],
      "text/plain": [
       "       Police_District  Grid  Occurence_day  Occurence_hour  Beat_1A  Beat_1B  \\\n",
       "5743                 3   724              3              23        0        0   \n",
       "12192                6   877              5              17        0        0   \n",
       "5169                 2   626              3              20        0        0   \n",
       "7195                 1   328              5              20        1        0   \n",
       "2564                 3   717              3              21        0        0   \n",
       "\n",
       "       Beat_1C  Beat_2A  Beat_2B  Beat_2C  ...  Beat_4B  Beat_4C  Beat_5A  \\\n",
       "5743         0        0        0        0  ...        0        0        0   \n",
       "12192        0        0        0        0  ...        0        0        0   \n",
       "5169         0        0        0        1  ...        0        0        0   \n",
       "7195         0        0        0        0  ...        0        0        0   \n",
       "2564         0        0        0        0  ...        0        0        0   \n",
       "\n",
       "       Beat_5B  Beat_5C  Beat_6A  Beat_6B  Beat_6C  Beat_6D  Beat_6E  \n",
       "5743         0        0        0        0        0        0        0  \n",
       "12192        0        0        0        0        0        0        1  \n",
       "5169         0        0        0        0        0        0        0  \n",
       "7195         0        0        0        0        0        0        0  \n",
       "2564         0        0        0        0        0        0        0  \n",
       "\n",
       "[5 rows x 24 columns]"
      ]
     },
     "execution_count": 23,
     "metadata": {},
     "output_type": "execute_result"
    }
   ],
   "source": [
    "X_train.head()"
   ]
  },
  {
   "cell_type": "markdown",
   "metadata": {},
   "source": [
    "# Data Preprocessing"
   ]
  },
  {
   "cell_type": "code",
   "execution_count": 24,
   "metadata": {},
   "outputs": [],
   "source": [
    "from sklearn.preprocessing import LabelEncoder, MinMaxScaler, StandardScaler\n",
    "\n",
    "label_encoder = LabelEncoder()\n",
    "label_encoder.fit(y)\n",
    "label_encoder.classes_\n",
    "\n",
    "X_scaler = StandardScaler().fit(X_train)"
   ]
  },
  {
   "cell_type": "code",
   "execution_count": 36,
   "metadata": {},
   "outputs": [
    {
     "data": {
      "text/plain": [
       "array(['ACCIDENT', 'AGG ASSAULT', 'ARSON', 'ASSAULT', 'AUTO THEFT',\n",
       "       'BATTERY', 'BURGLARY', 'CITY ORDINANCE', 'CONSERVATION',\n",
       "       'DANGEROUS DRUG', 'DISORDERLY', 'EMBEZZLEMENT', 'FIRE',\n",
       "       'FIREWORKS', 'FISH AND GAME', 'FORGERY', 'FRAUD', 'FUGITIVE',\n",
       "       'GRAND THEFT', 'HEALTH/SAFETY', 'HOMICIDE', 'IMPOUND',\n",
       "       'INCIDENT RPT', 'LARCENY', 'NARCOTIC', 'NARCOTICS',\n",
       "       'OBST JUDICIARY', 'OBSTRUCT', 'OBSTRUCTING', 'PRIVACY',\n",
       "       'PUBLIC ORDER', 'PUBLIC PEACE', 'RELEASE', 'ROBBERY',\n",
       "       'SAC CITY CODE', 'SEX REGISTRATI', 'SEXUAL OFFENSE', 'STOLEN PROP',\n",
       "       'STOLEN VEHICLE', 'TAMPERING', 'THEFT', 'TOWED/STORED', 'TRAFFIC',\n",
       "       'TRAFFIC OFFENS', 'TRAFFIC VIO', 'TREPASS', 'TRESPASS',\n",
       "       'VANDALISM', 'VICE', 'WEAPON OFFENSE', 'WEAPONS'], dtype=object)"
      ]
     },
     "execution_count": 36,
     "metadata": {},
     "output_type": "execute_result"
    }
   ],
   "source": [
    "label_encoder.classes_"
   ]
  },
  {
   "cell_type": "markdown",
   "metadata": {},
   "source": [
    "Scale both the training and testing data"
   ]
  },
  {
   "cell_type": "code",
   "execution_count": 25,
   "metadata": {},
   "outputs": [],
   "source": [
    "X_train_scaled = X_scaler.transform(X_train)\n",
    "X_test_scaled = X_scaler.transform(X_test)"
   ]
  },
  {
   "cell_type": "markdown",
   "metadata": {},
   "source": [
    "One-hot encode the labels"
   ]
  },
  {
   "cell_type": "code",
   "execution_count": 26,
   "metadata": {},
   "outputs": [],
   "source": [
    "from tensorflow.keras.utils import to_categorical"
   ]
  },
  {
   "cell_type": "code",
   "execution_count": 27,
   "metadata": {},
   "outputs": [
    {
     "data": {
      "text/plain": [
       "array([[0., 0., 0., ..., 0., 0., 0.],\n",
       "       [0., 0., 0., ..., 0., 0., 0.],\n",
       "       [0., 0., 0., ..., 0., 0., 0.],\n",
       "       ...,\n",
       "       [0., 0., 0., ..., 0., 0., 0.],\n",
       "       [0., 0., 0., ..., 0., 0., 0.],\n",
       "       [0., 0., 0., ..., 0., 0., 0.]], dtype=float32)"
      ]
     },
     "execution_count": 27,
     "metadata": {},
     "output_type": "execute_result"
    }
   ],
   "source": [
    "# One-hot encoding\n",
    "\n",
    "# Step 1: Label-encode data set\n",
    "\n",
    "encoded_y_train = label_encoder.transform(y_train)\n",
    "encoded_y_test = label_encoder.transform(y_test)\n",
    "\n",
    "y_train_categorical = to_categorical(encoded_y_train)\n",
    "y_test_categorical = to_categorical(encoded_y_test)\n",
    "y_train_categorical"
   ]
  },
  {
   "cell_type": "markdown",
   "metadata": {},
   "source": [
    "## Defining our Model Architecture (the layers)\n",
    "\n",
    "We first need to create a sequential model"
   ]
  },
  {
   "cell_type": "code",
   "execution_count": 28,
   "metadata": {},
   "outputs": [],
   "source": [
    "from tensorflow.keras.models import Sequential\n",
    "from tensorflow.keras.layers import Dense\n",
    "\n",
    "model = Sequential()"
   ]
  },
  {
   "cell_type": "markdown",
   "metadata": {},
   "source": [
    "Next, we add our first layer. This layer requires you to specify both the number of inputs and the number of nodes that you want in the hidden layer."
   ]
  },
  {
   "cell_type": "code",
   "execution_count": 29,
   "metadata": {},
   "outputs": [
    {
     "data": {
      "text/plain": [
       "(10602, 51)"
      ]
     },
     "execution_count": 29,
     "metadata": {},
     "output_type": "execute_result"
    }
   ],
   "source": [
    "y_train_categorical.shape"
   ]
  },
  {
   "cell_type": "code",
   "execution_count": 30,
   "metadata": {},
   "outputs": [],
   "source": [
    "number_inputs = 24\n",
    "\n",
    "\n",
    "model.add(Dense(units=100, activation='relu', input_dim=24))\n",
    "model.add(Dense(units=100, activation='relu'))\n",
    "model.add(Dense(units=51, activation='softmax'))"
   ]
  },
  {
   "cell_type": "code",
   "execution_count": 31,
   "metadata": {},
   "outputs": [
    {
     "name": "stdout",
     "output_type": "stream",
     "text": [
      "Model: \"sequential\"\n",
      "_________________________________________________________________\n",
      "Layer (type)                 Output Shape              Param #   \n",
      "=================================================================\n",
      "dense (Dense)                (None, 100)               2500      \n",
      "_________________________________________________________________\n",
      "dense_1 (Dense)              (None, 100)               10100     \n",
      "_________________________________________________________________\n",
      "dense_2 (Dense)              (None, 51)                5151      \n",
      "=================================================================\n",
      "Total params: 17,751\n",
      "Trainable params: 17,751\n",
      "Non-trainable params: 0\n",
      "_________________________________________________________________\n"
     ]
    }
   ],
   "source": [
    "model.summary()"
   ]
  },
  {
   "cell_type": "markdown",
   "metadata": {},
   "source": [
    "## Compile the Model\n",
    "\n",
    "Now that we have our model architecture defined, we must compile the model using a loss function and optimizer. We can also specify additional training metrics such as accuracy."
   ]
  },
  {
   "cell_type": "code",
   "execution_count": 32,
   "metadata": {},
   "outputs": [],
   "source": [
    "# Use categorical crossentropy for categorical data and mean squared error for regression\n",
    "# Hint: your output layer in this example is using software for logistic regression (categorical)\n",
    "# If your output layer activation was `linear` then you may want to use `mse` for loss\n",
    "model.compile(optimizer='adam',\n",
    "              loss='categorical_crossentropy',\n",
    "              metrics=['accuracy'])"
   ]
  },
  {
   "cell_type": "markdown",
   "metadata": {},
   "source": [
    "## Training the Model\n",
    "Finally, we train our model using our training data"
   ]
  },
  {
   "cell_type": "markdown",
   "metadata": {},
   "source": [
    "Training consists of updating our weights using our optimizer and loss function. In this example, we choose 1000 iterations (loops) of training that are called epochs.\n",
    "\n",
    "We also choose to shuffle our training data and increase the detail printed out during each training cycle."
   ]
  },
  {
   "cell_type": "code",
   "execution_count": 33,
   "metadata": {},
   "outputs": [
    {
     "data": {
      "text/plain": [
       "(10602, 51)"
      ]
     },
     "execution_count": 33,
     "metadata": {},
     "output_type": "execute_result"
    }
   ],
   "source": [
    "y_train_categorical.shape"
   ]
  },
  {
   "cell_type": "code",
   "execution_count": 34,
   "metadata": {},
   "outputs": [
    {
     "name": "stdout",
     "output_type": "stream",
     "text": [
      "Train on 10602 samples\n",
      "Epoch 1/50\n",
      "10602/10602 - 4s - loss: 2.7184 - accuracy: 0.1824\n",
      "Epoch 2/50\n",
      "10602/10602 - 1s - loss: 2.5691 - accuracy: 0.2005\n",
      "Epoch 3/50\n",
      "10602/10602 - 1s - loss: 2.5523 - accuracy: 0.2029\n",
      "Epoch 4/50\n",
      "10602/10602 - 1s - loss: 2.5412 - accuracy: 0.2072\n",
      "Epoch 5/50\n",
      "10602/10602 - 1s - loss: 2.5289 - accuracy: 0.2106\n",
      "Epoch 6/50\n",
      "10602/10602 - 1s - loss: 2.5180 - accuracy: 0.2155\n",
      "Epoch 7/50\n",
      "10602/10602 - 1s - loss: 2.5093 - accuracy: 0.2127\n",
      "Epoch 8/50\n",
      "10602/10602 - 1s - loss: 2.5032 - accuracy: 0.2146\n",
      "Epoch 9/50\n",
      "10602/10602 - 1s - loss: 2.4948 - accuracy: 0.2190\n",
      "Epoch 10/50\n",
      "10602/10602 - 1s - loss: 2.4894 - accuracy: 0.2215\n",
      "Epoch 11/50\n",
      "10602/10602 - 1s - loss: 2.4831 - accuracy: 0.2207\n",
      "Epoch 12/50\n",
      "10602/10602 - 1s - loss: 2.4766 - accuracy: 0.2240\n",
      "Epoch 13/50\n",
      "10602/10602 - 1s - loss: 2.4726 - accuracy: 0.2279\n",
      "Epoch 14/50\n",
      "10602/10602 - 1s - loss: 2.4666 - accuracy: 0.2246\n",
      "Epoch 15/50\n",
      "10602/10602 - 1s - loss: 2.4603 - accuracy: 0.2280\n",
      "Epoch 16/50\n",
      "10602/10602 - 1s - loss: 2.4562 - accuracy: 0.2273\n",
      "Epoch 17/50\n",
      "10602/10602 - 1s - loss: 2.4501 - accuracy: 0.2305\n",
      "Epoch 18/50\n",
      "10602/10602 - 1s - loss: 2.4465 - accuracy: 0.2285\n",
      "Epoch 19/50\n",
      "10602/10602 - 1s - loss: 2.4422 - accuracy: 0.2289\n",
      "Epoch 20/50\n",
      "10602/10602 - 1s - loss: 2.4369 - accuracy: 0.2309\n",
      "Epoch 21/50\n",
      "10602/10602 - 1s - loss: 2.4344 - accuracy: 0.2304\n",
      "Epoch 22/50\n",
      "10602/10602 - 1s - loss: 2.4292 - accuracy: 0.2275\n",
      "Epoch 23/50\n",
      "10602/10602 - 1s - loss: 2.4229 - accuracy: 0.2354\n",
      "Epoch 24/50\n",
      "10602/10602 - 1s - loss: 2.4224 - accuracy: 0.2335\n",
      "Epoch 25/50\n",
      "10602/10602 - 1s - loss: 2.4175 - accuracy: 0.2323\n",
      "Epoch 26/50\n",
      "10602/10602 - 1s - loss: 2.4149 - accuracy: 0.2335\n",
      "Epoch 27/50\n",
      "10602/10602 - 1s - loss: 2.4103 - accuracy: 0.2352\n",
      "Epoch 28/50\n",
      "10602/10602 - 1s - loss: 2.4057 - accuracy: 0.2369\n",
      "Epoch 29/50\n",
      "10602/10602 - 1s - loss: 2.4047 - accuracy: 0.2342\n",
      "Epoch 30/50\n",
      "10602/10602 - 1s - loss: 2.3998 - accuracy: 0.2402\n",
      "Epoch 31/50\n",
      "10602/10602 - 1s - loss: 2.3968 - accuracy: 0.2407\n",
      "Epoch 32/50\n",
      "10602/10602 - 1s - loss: 2.3936 - accuracy: 0.2417\n",
      "Epoch 33/50\n",
      "10602/10602 - 1s - loss: 2.3917 - accuracy: 0.2362\n",
      "Epoch 34/50\n",
      "10602/10602 - 1s - loss: 2.3863 - accuracy: 0.2381\n",
      "Epoch 35/50\n",
      "10602/10602 - 1s - loss: 2.3835 - accuracy: 0.2399\n",
      "Epoch 36/50\n",
      "10602/10602 - 1s - loss: 2.3816 - accuracy: 0.2392\n",
      "Epoch 37/50\n",
      "10602/10602 - 1s - loss: 2.3768 - accuracy: 0.2398\n",
      "Epoch 38/50\n",
      "10602/10602 - 1s - loss: 2.3744 - accuracy: 0.2425\n",
      "Epoch 39/50\n",
      "10602/10602 - 1s - loss: 2.3722 - accuracy: 0.2435\n",
      "Epoch 40/50\n",
      "10602/10602 - 1s - loss: 2.3700 - accuracy: 0.2447\n",
      "Epoch 41/50\n",
      "10602/10602 - 1s - loss: 2.3663 - accuracy: 0.2414\n",
      "Epoch 42/50\n",
      "10602/10602 - 1s - loss: 2.3652 - accuracy: 0.2397\n",
      "Epoch 43/50\n",
      "10602/10602 - 1s - loss: 2.3611 - accuracy: 0.2424\n",
      "Epoch 44/50\n",
      "10602/10602 - 1s - loss: 2.3590 - accuracy: 0.2453\n",
      "Epoch 45/50\n",
      "10602/10602 - 1s - loss: 2.3558 - accuracy: 0.2434\n",
      "Epoch 46/50\n",
      "10602/10602 - 1s - loss: 2.3525 - accuracy: 0.2468\n",
      "Epoch 47/50\n",
      "10602/10602 - 1s - loss: 2.3523 - accuracy: 0.2475\n",
      "Epoch 48/50\n",
      "10602/10602 - 1s - loss: 2.3491 - accuracy: 0.2429\n",
      "Epoch 49/50\n",
      "10602/10602 - 1s - loss: 2.3467 - accuracy: 0.2471\n",
      "Epoch 50/50\n",
      "10602/10602 - 1s - loss: 2.3434 - accuracy: 0.2429\n"
     ]
    },
    {
     "data": {
      "text/plain": [
       "<tensorflow.python.keras.callbacks.History at 0x7fea1563ae50>"
      ]
     },
     "execution_count": 34,
     "metadata": {},
     "output_type": "execute_result"
    }
   ],
   "source": [
    "# Fit (train) the model\n",
    "model.fit(\n",
    "    X_train_scaled,\n",
    "    y_train_categorical,\n",
    "    epochs=50,\n",
    "    shuffle=True,\n",
    "    verbose=2\n",
    ")"
   ]
  },
  {
   "cell_type": "markdown",
   "metadata": {},
   "source": [
    "## Quantifying the Model\n",
    "We use our testing data to validate our model. This is how we determine the validity of our model (i.e. the ability to predict new and previously unseen data points)"
   ]
  },
  {
   "cell_type": "code",
   "execution_count": 35,
   "metadata": {},
   "outputs": [
    {
     "name": "stdout",
     "output_type": "stream",
     "text": [
      "Loss: 2.7852405337337456, Accuracy: 0.2034521847963333\n"
     ]
    }
   ],
   "source": [
    "# Evaluate the model using the testing data\n",
    "model_loss, model_accuracy = model.evaluate(\n",
    "    X_test_scaled, y_test_categorical, verbose=5)\n",
    "print(f\"Loss: {model_loss}, Accuracy: {model_accuracy}\")"
   ]
  },
  {
   "cell_type": "code",
   "execution_count": null,
   "metadata": {},
   "outputs": [],
   "source": []
  }
 ],
 "metadata": {
  "kernelspec": {
   "display_name": "Python 3",
   "language": "python",
   "name": "python3"
  },
  "language_info": {
   "codemirror_mode": {
    "name": "ipython",
    "version": 3
   },
   "file_extension": ".py",
   "mimetype": "text/x-python",
   "name": "python",
   "nbconvert_exporter": "python",
   "pygments_lexer": "ipython3",
   "version": "3.7.4"
  }
 },
 "nbformat": 4,
 "nbformat_minor": 4
}
