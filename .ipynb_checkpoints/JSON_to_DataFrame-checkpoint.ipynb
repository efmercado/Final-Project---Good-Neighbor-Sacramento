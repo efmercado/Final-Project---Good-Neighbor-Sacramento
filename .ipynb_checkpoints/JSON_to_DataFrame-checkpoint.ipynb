{
 "cells": [
  {
   "cell_type": "code",
   "execution_count": 1,
   "metadata": {},
   "outputs": [],
   "source": [
    "import pandas as pd\n",
    "import requests\n",
    "import json\n",
    "from pprint import pprint\n",
    "import time\n",
    "from sklearn.preprocessing import LabelEncoder"
   ]
  },
  {
   "cell_type": "markdown",
   "metadata": {},
   "source": [
    "# Data Import\n",
    "Calling API and Importing JSON File"
   ]
  },
  {
   "cell_type": "code",
   "execution_count": 2,
   "metadata": {},
   "outputs": [],
   "source": [
    "url = \"https://services5.arcgis.com/54falWtcpty3V47Z/arcgis/rest/services/general_offenses_year3/FeatureServer/0/query?where=1%3D1&outFields=*&outSR=4326&resultType=standard&f=json\"\n",
    "json = json.loads(requests.get(url).text)"
   ]
  },
  {
   "cell_type": "markdown",
   "metadata": {},
   "source": [
    "# Reformating Data\n",
    "Pulling values from each key and listing them in a seperate variable"
   ]
  },
  {
   "cell_type": "code",
   "execution_count": 3,
   "metadata": {},
   "outputs": [],
   "source": [
    "Beat = []\n",
    "Description = []\n",
    "Grid = []\n",
    "ObjectID = []\n",
    "Occurence_Date = []\n",
    "Offense_Category = []\n",
    "Offense_Code = []\n",
    "Offense_Ext = []\n",
    "Police_District = []\n",
    "Record_ID = []\n",
    "\n",
    "for i in range(len(json['features'])):\n",
    "    for k, v in json['features'][i]['attributes'].items():\n",
    "        if k == 'Beat':\n",
    "            Beat.append(v)\n",
    "        if k == 'Description':\n",
    "            Description.append(v)\n",
    "        if k == 'Grid':\n",
    "            Grid.append(v)\n",
    "        if k == 'OBJECTID':\n",
    "            ObjectID.append(v)\n",
    "        if k == 'Occurence_Date':\n",
    "            Occurence_Date.append(v)\n",
    "        if k == 'Offense_Category':\n",
    "            Offense_Category.append(v)\n",
    "        if k == 'Offense_Code':\n",
    "            Offense_Code.append(v)\n",
    "        if k == 'Offense_Ext':\n",
    "            Offense_Ext.append(v)\n",
    "        if k == 'Police_District':\n",
    "            Police_District.append(v)\n",
    "        if k == 'Record_ID':\n",
    "            Record_ID.append(v)"
   ]
  },
  {
   "cell_type": "markdown",
   "metadata": {},
   "source": [
    "# Creating New Dictionary\n",
    "Creating a dictionary with our new lists"
   ]
  },
  {
   "cell_type": "code",
   "execution_count": 4,
   "metadata": {},
   "outputs": [],
   "source": [
    "crime_dict = {'Beat': Beat,\n",
    " 'Description': Description,\n",
    " 'Grid': Grid,\n",
    " 'ObjectID': ObjectID,\n",
    " 'Occurence_Date': Occurence_Date,\n",
    " 'Offense_Category': Offense_Category,\n",
    " 'Offense_Code': Offense_Code,\n",
    " 'Offense_Ext': Offense_Ext,\n",
    " 'Police_District': Police_District,\n",
    " 'Record_ID': Record_ID}"
   ]
  },
  {
   "cell_type": "markdown",
   "metadata": {},
   "source": [
    "# Transforming Dictionary to DataFrame"
   ]
  },
  {
   "cell_type": "code",
   "execution_count": 5,
   "metadata": {},
   "outputs": [],
   "source": [
    "crime_df = pd.DataFrame(crime_dict).set_index('ObjectID')"
   ]
  },
  {
   "cell_type": "code",
   "execution_count": 6,
   "metadata": {},
   "outputs": [
    {
     "data": {
      "text/plain": [
       "Beat                5835\n",
       "Description         5835\n",
       "Grid                5835\n",
       "Occurence_Date      5835\n",
       "Offense_Category    5835\n",
       "Offense_Code        5835\n",
       "Offense_Ext         5835\n",
       "Police_District     5835\n",
       "Record_ID           5835\n",
       "dtype: int64"
      ]
     },
     "execution_count": 6,
     "metadata": {},
     "output_type": "execute_result"
    }
   ],
   "source": [
    "important_crimes = ['AUTO THEFT','BURGLARY','GRAND THEFT','LARCENY','PRIVACY','ROBBERY','STOLEN PROP','THEFT','TREPASS','TRESPASS']\n",
    "crime_df = crime_df.loc[crime_df['Beat'] != 'UI']\n",
    "crime_df = crime_df.loc[crime_df['Offense_Category'].isin(important_crimes)]\n",
    "crime_df.dropna(inplace=True)\n",
    "crime_df.reset_index(drop=True, inplace=True)\n",
    "crime_df.count()"
   ]
  },
  {
   "cell_type": "code",
   "execution_count": 7,
   "metadata": {},
   "outputs": [
    {
     "data": {
      "text/plain": [
       "Beat                object\n",
       "Description         object\n",
       "Grid                object\n",
       "Occurence_Date       int64\n",
       "Offense_Category    object\n",
       "Offense_Code        object\n",
       "Offense_Ext         object\n",
       "Police_District     object\n",
       "Record_ID           object\n",
       "dtype: object"
      ]
     },
     "execution_count": 7,
     "metadata": {},
     "output_type": "execute_result"
    }
   ],
   "source": [
    "# Reviewing data types\n",
    "crime_df.dtypes"
   ]
  },
  {
   "cell_type": "markdown",
   "metadata": {},
   "source": [
    "# Converting Data Types"
   ]
  },
  {
   "cell_type": "code",
   "execution_count": 8,
   "metadata": {},
   "outputs": [],
   "source": [
    "crime_df['Grid'] = crime_df['Grid'].astype('int')\n",
    "crime_df['Occurence_Date'] = crime_df['Occurence_Date'].astype('str')\n",
    "crime_df['Offense_Code'] = crime_df['Offense_Code'].astype('int')\n",
    "crime_df['Police_District'] = crime_df['Police_District'].astype('int')\n",
    "crime_df['Record_ID'] = crime_df['Record_ID'].astype('int')"
   ]
  },
  {
   "cell_type": "code",
   "execution_count": 9,
   "metadata": {},
   "outputs": [
    {
     "data": {
      "text/plain": [
       "Beat                object\n",
       "Description         object\n",
       "Grid                 int64\n",
       "Occurence_Date      object\n",
       "Offense_Category    object\n",
       "Offense_Code         int64\n",
       "Offense_Ext         object\n",
       "Police_District      int64\n",
       "Record_ID            int64\n",
       "dtype: object"
      ]
     },
     "execution_count": 9,
     "metadata": {},
     "output_type": "execute_result"
    }
   ],
   "source": [
    "crime_df.dtypes"
   ]
  },
  {
   "cell_type": "code",
   "execution_count": 10,
   "metadata": {},
   "outputs": [],
   "source": [
    "# Converting unix code to readble dates and times\n",
    "Occurence_Date = []\n",
    "Day_of_the_Week = []\n",
    "Month = []\n",
    "Year = []\n",
    "Hour = []\n",
    "\n",
    "for i in range(len(crime_df)):\n",
    "        trimmed_unix = crime_df['Occurence_Date'][i][0:10]\n",
    "        day_of_week = time.strftime('%u', time.localtime(int(trimmed_unix)))\n",
    "        month = time.strftime('%m', time.localtime(int(trimmed_unix)))\n",
    "        day_month = time.strftime('%d', time.localtime(int(trimmed_unix)))\n",
    "        year = time.strftime('%Y', time.localtime(int(trimmed_unix)))\n",
    "        hour = time.strftime('%H', time.localtime(int(trimmed_unix)))\n",
    "        date_time = time.strftime('%a %m-%d-%Y, %I:%M:%S %p', time.localtime(int(trimmed_unix)))\n",
    "        Occurence_Date.append(date_time)\n",
    "        Day_of_the_Week.append(day_of_week)\n",
    "        Month.append(day_month)\n",
    "        Year.append(year)\n",
    "        Hour.append(hour)\n",
    "\n",
    "crime_df['Occurence_Date'] = Occurence_Date\n",
    "crime_df['Day_of_the_Week'] = Day_of_the_Week\n",
    "crime_df['Month'] = Month\n",
    "crime_df['Year'] = Year\n",
    "crime_df['Hour'] = Hour"
   ]
  },
  {
   "cell_type": "code",
   "execution_count": 11,
   "metadata": {},
   "outputs": [],
   "source": [
    "# Encoding beats to numerical values\n",
    "label_encoder = LabelEncoder()\n",
    "label_encoder.fit(crime_df['Beat'])\n",
    "encoded_beat = label_encoder.transform(crime_df['Beat'])"
   ]
  },
  {
   "cell_type": "code",
   "execution_count": 12,
   "metadata": {},
   "outputs": [],
   "source": [
    "crime_df['Encoded_Beat'] = encoded_beat"
   ]
  },
  {
   "cell_type": "markdown",
   "metadata": {},
   "source": [
    "# Placing Data Frame into a CSV"
   ]
  },
  {
   "cell_type": "code",
   "execution_count": 14,
   "metadata": {},
   "outputs": [],
   "source": [
    "crime_df.to_csv('sac_crime.csv', index=False)"
   ]
  },
  {
   "cell_type": "code",
   "execution_count": null,
   "metadata": {},
   "outputs": [],
   "source": []
  }
 ],
 "metadata": {
  "kernelspec": {
   "display_name": "Python 3",
   "language": "python",
   "name": "python3"
  },
  "language_info": {
   "codemirror_mode": {
    "name": "ipython",
    "version": 3
   },
   "file_extension": ".py",
   "mimetype": "text/x-python",
   "name": "python",
   "nbconvert_exporter": "python",
   "pygments_lexer": "ipython3",
   "version": "3.7.4"
  }
 },
 "nbformat": 4,
 "nbformat_minor": 4
}
